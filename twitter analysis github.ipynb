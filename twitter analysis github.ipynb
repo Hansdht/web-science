{
 "cells": [
  {
   "cell_type": "markdown",
   "metadata": {},
   "source": [
    "## name : Hans Dong\n"
   ]
  },
  {
   "cell_type": "markdown",
   "metadata": {},
   "source": [
    "### * set the token and the key"
   ]
  },
  {
   "cell_type": "code",
   "execution_count": 1,
   "metadata": {},
   "outputs": [
    {
     "name": "stdout",
     "output_type": "stream",
     "text": [
      "Everything imported OK\n"
     ]
    }
   ],
   "source": [
    "#get the token and key\n",
    "\n",
    "import tweepy\n",
    "from __future__ import print_function\n",
    "import json\n",
    "from pymongo import MongoClient\n",
    "import numpy as np\n",
    "import matplotlib as mpl   \n",
    "import matplotlib.pyplot as plt\n",
    "\n",
    "consumer_key = ''   #get the access token so that we have authority to extract data\n",
    "consumer_secret = ''\n",
    "access_token = ''\n",
    "access_token_secret = ''\n",
    " \n",
    "auth = tweepy.OAuthHandler(consumer_key,consumer_secret)  \n",
    "auth.set_access_token(access_token,access_token_secret)\n",
    "\n",
    "api = tweepy.API(auth,wait_on_rate_limit=True,wait_on_rate_limit_notify=True)\n",
    "                                    # the parameter\"wait on rate_limit need to be set to True when using rest api\n",
    "                                    # because it needs to start automatically\n",
    "\n",
    "print(\"Everything imported OK\")"
   ]
  },
  {
   "cell_type": "markdown",
   "metadata": {},
   "source": [
    "### * get the topic-based tweets via streaming api"
   ]
  },
  {
   "cell_type": "code",
   "execution_count": null,
   "metadata": {},
   "outputs": [],
   "source": [
    "import tweepy\n",
    "#override tweepy.StreamListener to add logic to on_status\n",
    "class MyStreamListener(tweepy.StreamListener):\n",
    "    #def on_data(self,data):\n",
    "        #print(data)\n",
    "        #return True\n",
    "    def on_connect(self):\n",
    "        # Called initially to connect to the Streaming API\n",
    "        print(\"You are now connected to the streaming API.\")\n",
    " \n",
    "    def on_error(self, status_code):\n",
    "        # On error - if an error occurs, display the error / status code\n",
    "        print('An Error has occured: ' + repr(status_code))\n",
    "        return False\n",
    "    #def on_status(self, status):\n",
    "    def on_error(self, status_code):\n",
    "        if status_code == 420:    #error 420 means the streaming reach its limit so we need to disconnect the streaming\n",
    "            #returning False in on_data disconnects the stream\n",
    "            return False\n",
    "    def on_data(self, data):\n",
    "        #connects to mongoDB and stores the tweet\n",
    "        try:\n",
    "            client = MongoClient()\n",
    "            \n",
    "            # Use twitterdb database. If it doesn't exist, it will be created.\n",
    "            db = client.twitter\n",
    "    \n",
    "            # Decode the JSON from Twitter\n",
    "            datajson = json.loads(data)\n",
    "            \n",
    "            #grab the 'created_at' data from the Tweet to use for display\n",
    "            created_at = datajson['created_at']\n",
    "         \n",
    "            #print out a message to the screen that we have collected a tweet\n",
    "            print(\"Tweet collected at \" + str(created_at))\n",
    "            \n",
    "            #insert the data into the mongoDB into a collection called twitter_search\n",
    "            #if twitter_search doesn't exist, it will be created.\n",
    "            db.streaming_topic.insert(datajson)\n",
    "        except Exception as e:\n",
    "            print(e)\n",
    "\n",
    "myStreamListener = MyStreamListener(api=tweepy.API(wait_on_rate_limit=True))\n",
    "myStream = tweepy.Stream(auth = api.auth, listener=myStreamListener)\n",
    "myStream.filter(track=['whisky'],languages=[\"en\"],async=True)     #get the tweets which include whisky and in english from 12:10 to 13:10"
   ]
  },
  {
   "cell_type": "markdown",
   "metadata": {},
   "source": [
    "### * get the geo-tagged tweet via streaming api"
   ]
  },
  {
   "cell_type": "code",
   "execution_count": null,
   "metadata": {},
   "outputs": [],
   "source": [
    "# get the tweet from location in Glasgow and save it in mongodb\n",
    "import tweepy\n",
    "\n",
    "#override tweepy.StreamListener to add logic to on_status\n",
    "class MyStreamListener(tweepy.StreamListener):\n",
    "    #def on_data(self,data):\n",
    "        #print(data)\n",
    "        #return True\n",
    "    def on_connect(self):\n",
    "        # Called initially to connect to the Streaming API\n",
    "        print(\"You are now connected to the streaming API.\")\n",
    " \n",
    "    def on_error(self, status_code):\n",
    "        # On error - if an error occurs, display the error / status code\n",
    "        print('An Error has occured: ' + repr(status_code))\n",
    "        return False\n",
    "    def on_data(self, data):\n",
    "        try:\n",
    "            client = MongoClient()\n",
    "            # Use twitterdb database. If it doesn't exist, it will be created.\n",
    "            db = client.twitter\n",
    "            # Decode the JSON from Twitter\n",
    "            datajson = json.loads(data)\n",
    "            created_at = datajson['created_at']\n",
    "            print(\"Tweet collected at \" + str(created_at))\n",
    "            db.streaming_geo.insert(datajson)\n",
    "            \n",
    "        except Exception as e:\n",
    "            print(e)    \n",
    "myStreamListener = MyStreamListener(api=tweepy.API(wait_on_rate_limit=True))\n",
    "myStream = tweepy.Stream(auth = api.auth, listener=myStreamListener)\n",
    "myStream.filter(locations=[-4.34,55.83,-4.14,55.88],async=True,languages=[\"en\"])\n",
    "                        #location contains 4 points which represent the longtitude and latitude of the area\n",
    "#locations[longtitude,latitude]"
   ]
  },
  {
   "cell_type": "code",
   "execution_count": 5,
   "metadata": {},
   "outputs": [],
   "source": [
    "#close the streaming\n",
    "myStream.disconnect()"
   ]
  },
  {
   "cell_type": "markdown",
   "metadata": {},
   "source": [
    "### * get the tweet without any filter by streaming"
   ]
  },
  {
   "cell_type": "code",
   "execution_count": null,
   "metadata": {},
   "outputs": [],
   "source": [
    "#get information in english via streaming \n",
    "import tweepy\n",
    "\n",
    "#override tweepy.StreamListener to add logic to on_status\n",
    "class MyStreamListener(tweepy.StreamListener):\n",
    "\n",
    "    #def on_data(self,data):\n",
    "        #print(data)\n",
    "        #return True\n",
    "    def on_connect(self):\n",
    "        # Called initially to connect to the Streaming API\n",
    "        print(\"You are now connected to the streaming API.\")\n",
    " \n",
    "    def on_error(self, status_code):\n",
    "        # On error - if an error occurs, display the error / status code\n",
    "        print('An Error has occured: ' + repr(status_code))\n",
    "        return False\n",
    "    def on_data(self, data):\n",
    "        try:\n",
    "            client = MongoClient()\n",
    "            # Use twitterdb database. If it doesn't exist, it will be created.\n",
    "            db = client.twitter\n",
    "            # Decode the JSON from Twitter\n",
    "            datajson = json.loads(data)\n",
    "            created_at = datajson['created_at']\n",
    "            print(\"Tweet collected at \" + str(created_at))\n",
    "            db.streaming_without.insert(datajson)\n",
    "        except Exception as e:\n",
    "            print(e) \n",
    "            \n",
    "myStreamListener = MyStreamListener(api=tweepy.API(wait_on_rate_limit=True))\n",
    "myStream = tweepy.Stream(auth = api.auth, listener=myStreamListener)\n",
    "#myStream.filter(async=True)\n",
    "myStream.sample(languages=[\"en\"])"
   ]
  },
  {
   "cell_type": "markdown",
   "metadata": {},
   "source": [
    "* ## REST api for tweets in Glasgow"
   ]
  },
  {
   "cell_type": "markdown",
   "metadata": {},
   "source": [
    "### * searching for geo-tagged=Glasgow, but the radius must be 1 mile and also can crawl the 75% data "
   ]
  },
  {
   "cell_type": "code",
   "execution_count": null,
   "metadata": {},
   "outputs": [],
   "source": [
    "#get the tweet in Glasgow geo-tagged via REST api(1 hour)\n",
    "#REST api will kill the connection when 15 minutes and will reduce the number of result\n",
    "#after 15 mins it need \"REST\" to do the next\n",
    "#put this shit into database\n",
    "\n",
    "for tweet in tweepy.Cursor(api.search,since=2018-11-16,geocode =\"55.83,-4.34,10mi\",languages=[\"en\"],count=100).items():\n",
    "    try:\n",
    "            client = MongoClient()\n",
    "            # Use twitterdb database. If it doesn't exist, it will be created.\n",
    "            db = client.twitter\n",
    "            # Decode the JSON from Twitter\n",
    "            rest=tweet._json\n",
    "            created_at = rest['created_at']\n",
    "            print(\"Tweet collected at \" + str(created_at))\n",
    "            db.REST_glasgow.insert(rest)\n",
    "            \n",
    "    except Exception as e:\n",
    "            print(e)    \n",
    "    #print(tweet.text )\n"
   ]
  },
  {
   "cell_type": "markdown",
   "metadata": {},
   "source": [
    "* ## topic based tweets from REST api"
   ]
  },
  {
   "cell_type": "code",
   "execution_count": null,
   "metadata": {},
   "outputs": [],
   "source": [
    "for tweet in tweepy.Cursor(api.search,q=[\"whisky\"],since=2018-11-16,languages=[\"en\"],count=100).items():\n",
    "    try:\n",
    "            client = MongoClient()\n",
    "            # Use twitterdb database. If it doesn't exist, it will be created.\n",
    "            db = client.twitter\n",
    "            # Decode the JSON from Twitter\n",
    "            rest=tweet._json\n",
    "            created_at = rest['created_at']\n",
    "            print(\"Tweet collected at \" + str(created_at))\n",
    "            db.REST_topic.insert(rest)\n",
    "            \n",
    "    except Exception as e:\n",
    "            print(e)    "
   ]
  },
  {
   "cell_type": "markdown",
   "metadata": {},
   "source": [
    "### * operate the mongo db"
   ]
  },
  {
   "cell_type": "code",
   "execution_count": 26,
   "metadata": {},
   "outputs": [
    {
     "name": "stdout",
     "output_type": "stream",
     "text": [
      "Tweet collected at Wed Nov 14 21:36:47 +0000 2018\n",
      "Tweet collected at Wed Nov 14 21:36:47 +0000 2018\n",
      "0\n"
     ]
    },
    {
     "name": "stderr",
     "output_type": "stream",
     "text": [
      "D:\\python\\lib\\site-packages\\ipykernel_launcher.py:8: DeprecationWarning: count is deprecated. Use Collection.count_documents instead.\n",
      "  \n"
     ]
    },
    {
     "name": "stdout",
     "output_type": "stream",
     "text": [
      "Tweet collected at Wed Nov 14 21:36:50 +0000 2018\n",
      "Tweet collected at Wed Nov 14 21:36:50 +0000 2018\n"
     ]
    },
    {
     "name": "stderr",
     "output_type": "stream",
     "text": [
      "D:\\python\\lib\\site-packages\\ipykernel_launcher.py:26: DeprecationWarning: insert is deprecated. Use insert_one or insert_many instead.\n"
     ]
    },
    {
     "name": "stdout",
     "output_type": "stream",
     "text": [
      "Tweet collected at Wed Nov 14 21:36:59 +0000 2018\n",
      "Tweet collected at Wed Nov 14 21:36:59 +0000 2018\n",
      "Tweet collected at Wed Nov 14 21:37:03 +0000 2018Tweet collected at Wed Nov 14 21:37:03 +0000 2018\n",
      "\n"
     ]
    }
   ],
   "source": [
    "client = MongoClient()\n",
    "            # Use twitterdb database. If it doesn't exist, it will be created.\n",
    "db = client.twitter\n",
    "            # Decode the JSON from Twitter\n",
    "#for result in db.streaming.find({'geo': None }):\n",
    "    #print(result[\"text\"])\n",
    "    #$gt means bigger than，￥lt means less than\n",
    "print(db.REST_glasgow.find({'created_at': True}).count())"
   ]
  },
  {
   "cell_type": "code",
   "execution_count": 14,
   "metadata": {},
   "outputs": [
    {
     "name": "stdout",
     "output_type": "stream",
     "text": [
      "<pymongo.cursor.Cursor object at 0x00000000083A5F60>\n"
     ]
    }
   ],
   "source": [
    "client = MongoClient()\n",
    "            # Use twitterdb database. If it doesn't exist, it will be created.\n",
    "db = client.twitter\n",
    "print(db.steaming_geo.find({'created_at': {\"$gte\":\"Wed Nov 14 19:26:58 +0000 2018\",\"$lte\":\"Wed Nov 14 19:27:18 +0000 2018\"}}))"
   ]
  },
  {
   "cell_type": "code",
   "execution_count": 17,
   "metadata": {},
   "outputs": [
    {
     "name": "stdout",
     "output_type": "stream",
     "text": [
      "Wed Nov 14 19:26:58 +0000 2018\n",
      "Wed Nov 14 19:26:58 +0000 2018\n",
      "Wed Nov 14 19:27:09 +0000 2018\n",
      "Wed Nov 14 19:27:09 +0000 2018\n",
      "Wed Nov 14 19:27:10 +0000 2018\n",
      "Wed Nov 14 19:27:10 +0000 2018\n",
      "Wed Nov 14 19:27:18 +0000 2018\n",
      "Wed Nov 14 19:27:18 +0000 2018\n"
     ]
    }
   ],
   "source": [
    "for result in db.streaming_geo.find({'created_at': {\"$gte\":\"Wed Nov 14 19:26:58 +0000 2018\",\"$lte\":\"Wed Nov 14 19:27:18 +0000 2018\"}}):\n",
    "    print(result[\"created_at\"])"
   ]
  },
  {
   "cell_type": "code",
   "execution_count": 42,
   "metadata": {},
   "outputs": [
    {
     "name": "stdout",
     "output_type": "stream",
     "text": [
      "streaming sample: 44180\n",
      "streaming topic: 2295\n",
      "streaming geo: 518\n",
      "REST gla: 61291\n"
     ]
    },
    {
     "name": "stderr",
     "output_type": "stream",
     "text": [
      "D:\\python\\lib\\site-packages\\ipykernel_launcher.py:4: DeprecationWarning: count is deprecated. Use Collection.count_documents instead.\n",
      "  after removing the cwd from sys.path.\n",
      "D:\\python\\lib\\site-packages\\ipykernel_launcher.py:5: DeprecationWarning: count is deprecated. Use Collection.count_documents instead.\n",
      "  \"\"\"\n",
      "D:\\python\\lib\\site-packages\\ipykernel_launcher.py:6: DeprecationWarning: count is deprecated. Use Collection.count_documents instead.\n",
      "  \n",
      "D:\\python\\lib\\site-packages\\ipykernel_launcher.py:7: DeprecationWarning: count is deprecated. Use Collection.count_documents instead.\n",
      "  import sys\n"
     ]
    }
   ],
   "source": [
    "client = MongoClient()\n",
    "            # Use twitterdb database. If it doesn't exist, it will be created.\n",
    "db = client.twitter\n",
    "print(\"streaming sample:\",db.streaming_sample.find().count())\n",
    "print(\"streaming topic:\",db.streaming_topic.find().count())\n",
    "print(\"streaming geo:\",db.streaming_geo.find().count())\n",
    "print(\"REST gla:\",db.REST_glasgow.find().count())"
   ]
  },
  {
   "cell_type": "code",
   "execution_count": 43,
   "metadata": {},
   "outputs": [
    {
     "name": "stderr",
     "output_type": "stream",
     "text": [
      "D:\\python\\lib\\site-packages\\ipykernel_launcher.py:6: DeprecationWarning: count is deprecated. Use Collection.count_documents instead.\n",
      "  \n",
      "D:\\python\\lib\\site-packages\\ipykernel_launcher.py:7: DeprecationWarning: count is deprecated. Use Collection.count_documents instead.\n",
      "  import sys\n",
      "D:\\python\\lib\\site-packages\\ipykernel_launcher.py:8: DeprecationWarning: count is deprecated. Use Collection.count_documents instead.\n",
      "  \n"
     ]
    },
    {
     "name": "stdout",
     "output_type": "stream",
     "text": [
      "the amount of data: 54685\n",
      "the amount of geo-tagged 1431\n",
      "the Glasgow geo-tagged data 485\n"
     ]
    },
    {
     "name": "stderr",
     "output_type": "stream",
     "text": [
      "D:\\python\\lib\\site-packages\\ipykernel_launcher.py:14: DeprecationWarning: count is deprecated. Use Collection.count_documents instead.\n",
      "  \n",
      "D:\\python\\lib\\site-packages\\ipykernel_launcher.py:15: DeprecationWarning: count is deprecated. Use Collection.count_documents instead.\n",
      "  from ipykernel import kernelapp as app\n",
      "D:\\python\\lib\\site-packages\\ipykernel_launcher.py:16: DeprecationWarning: count is deprecated. Use Collection.count_documents instead.\n",
      "  app.launch_new_instance()\n"
     ]
    },
    {
     "name": "stdout",
     "output_type": "stream",
     "text": [
      "redundant data 1309\n",
      "retweet amount 32935\n",
      "quote amount 7009\n"
     ]
    }
   ],
   "source": [
    "##put all the data into a collection named \"all\"\n",
    "# do calculation\n",
    "client = MongoClient()\n",
    "db = client.twitter\n",
    "\n",
    "print(\"the amount of data:\",db.all.find().count())\n",
    "print(\"the amount of geo-tagged\",db.all.find({\"place\":{\"$ne\": None }}).count())\n",
    "print(\"the Glasgow geo-tagged data\",db.all.find({\"place.full_name\":\"Glasgow, Scotland\"}).count())\n",
    "redundancy=db.all.aggregate([{\"$group\":{\"_id\":\"$id_str\"}}])\n",
    "shit = 0\n",
    "for redundant in redundancy:\n",
    "    #print(redundant)\n",
    "    shit += 1\n",
    "print(\"redundant data\",db.all.find().count()-shit)\n",
    "print(\"retweet amount\",db.all.find({\"retweeted_status\":{\"$ne\": None }}).count())\n",
    "print(\"quote amount\",db.all.find({\"is_quote_status\": True}).count())\n"
   ]
  },
  {
   "cell_type": "markdown",
   "metadata": {},
   "source": [
    "## draw the plot"
   ]
  },
  {
   "cell_type": "code",
   "execution_count": 37,
   "metadata": {},
   "outputs": [
    {
     "name": "stderr",
     "output_type": "stream",
     "text": [
      "D:\\python\\lib\\site-packages\\ipykernel_launcher.py:8: DeprecationWarning: count is deprecated. Use Collection.count_documents instead.\n",
      "  \n",
      "D:\\python\\lib\\site-packages\\ipykernel_launcher.py:9: DeprecationWarning: count is deprecated. Use Collection.count_documents instead.\n",
      "  if __name__ == '__main__':\n"
     ]
    },
    {
     "name": "stdout",
     "output_type": "stream",
     "text": [
      "225\n"
     ]
    },
    {
     "name": "stderr",
     "output_type": "stream",
     "text": [
      "D:\\python\\lib\\site-packages\\ipykernel_launcher.py:10: DeprecationWarning: count is deprecated. Use Collection.count_documents instead.\n",
      "  # Remove the CWD from sys.path while we load stuff.\n",
      "D:\\python\\lib\\site-packages\\ipykernel_launcher.py:11: DeprecationWarning: count is deprecated. Use Collection.count_documents instead.\n",
      "  # This is added back by InteractiveShellApp.init_path()\n",
      "D:\\python\\lib\\site-packages\\ipykernel_launcher.py:12: DeprecationWarning: count is deprecated. Use Collection.count_documents instead.\n",
      "  if sys.path[0] == '':\n",
      "D:\\python\\lib\\site-packages\\ipykernel_launcher.py:13: DeprecationWarning: count is deprecated. Use Collection.count_documents instead.\n",
      "  del sys.path[0]\n",
      "D:\\python\\lib\\site-packages\\ipykernel_launcher.py:14: DeprecationWarning: count is deprecated. Use Collection.count_documents instead.\n",
      "  \n"
     ]
    },
    {
     "name": "stdout",
     "output_type": "stream",
     "text": [
      "[39. 43. 37. 43. 36. 27.]\n"
     ]
    },
    {
     "name": "stderr",
     "output_type": "stream",
     "text": [
      "D:\\python\\lib\\site-packages\\ipykernel_launcher.py:18: DeprecationWarning: count is deprecated. Use Collection.count_documents instead.\n",
      "D:\\python\\lib\\site-packages\\ipykernel_launcher.py:19: DeprecationWarning: count is deprecated. Use Collection.count_documents instead.\n",
      "D:\\python\\lib\\site-packages\\ipykernel_launcher.py:20: DeprecationWarning: count is deprecated. Use Collection.count_documents instead.\n",
      "D:\\python\\lib\\site-packages\\ipykernel_launcher.py:21: DeprecationWarning: count is deprecated. Use Collection.count_documents instead.\n",
      "D:\\python\\lib\\site-packages\\ipykernel_launcher.py:22: DeprecationWarning: count is deprecated. Use Collection.count_documents instead.\n",
      "D:\\python\\lib\\site-packages\\ipykernel_launcher.py:23: DeprecationWarning: count is deprecated. Use Collection.count_documents instead.\n"
     ]
    },
    {
     "name": "stdout",
     "output_type": "stream",
     "text": [
      "[4687. 4702. 4808. 4770. 4993. 5116.]\n"
     ]
    },
    {
     "name": "stderr",
     "output_type": "stream",
     "text": [
      "D:\\python\\lib\\site-packages\\ipykernel_launcher.py:27: DeprecationWarning: count is deprecated. Use Collection.count_documents instead.\n",
      "D:\\python\\lib\\site-packages\\ipykernel_launcher.py:28: DeprecationWarning: count is deprecated. Use Collection.count_documents instead.\n",
      "D:\\python\\lib\\site-packages\\ipykernel_launcher.py:29: DeprecationWarning: count is deprecated. Use Collection.count_documents instead.\n",
      "D:\\python\\lib\\site-packages\\ipykernel_launcher.py:30: DeprecationWarning: count is deprecated. Use Collection.count_documents instead.\n",
      "D:\\python\\lib\\site-packages\\ipykernel_launcher.py:31: DeprecationWarning: count is deprecated. Use Collection.count_documents instead.\n",
      "D:\\python\\lib\\site-packages\\ipykernel_launcher.py:32: DeprecationWarning: count is deprecated. Use Collection.count_documents instead.\n"
     ]
    },
    {
     "name": "stdout",
     "output_type": "stream",
     "text": [
      "[1029. 1022. 1077. 1063. 1039. 1007.]\n"
     ]
    }
   ],
   "source": [
    "#calculate\n",
    "                                ## \n",
    "client = MongoClient()\n",
    "db = client.twitter\n",
    "all_geo = np.zeros(6)\n",
    "\n",
    "                                           ##the \"$gte\" means bigger than,\"$lte\" means smaller than\n",
    "print(db.all.find({'created_at': {\"$gte\":\"Fri Nov 16 12:10:00 +0000 2018\",\"$lte\":\"Fri Nov 16 13:10:00 +0000 2018\"},\"place.full_name\":\"Glasgow, Scotland\"}).count())\n",
    "all_geo[0]=db.all.find({'created_at': {\"$gte\":\"Fri Nov 16 12:10:00 +0000 2018\",\"$lte\":\"Fri Nov 16 12:20:00 +0000 2018\"},\"place.full_name\":\"Glasgow, Scotland\"}).count()\n",
    "all_geo[1]=db.all.find({'created_at': {\"$gte\":\"Fri Nov 16 12:20:00 +0000 2018\",\"$lte\":\"Fri Nov 16 12:30:00 +0000 2018\"},\"place.full_name\":\"Glasgow, Scotland\"}).count()\n",
    "all_geo[2]=db.all.find({'created_at': {\"$gte\":\"Fri Nov 16 12:30:00 +0000 2018\",\"$lte\":\"Fri Nov 16 12:40:00 +0000 2018\"},\"place.full_name\":\"Glasgow, Scotland\"}).count()\n",
    "all_geo[3]=db.all.find({'created_at': {\"$gte\":\"Fri Nov 16 12:40:00 +0000 2018\",\"$lte\":\"Fri Nov 16 12:50:00 +0000 2018\"},\"place.full_name\":\"Glasgow, Scotland\"}).count()\n",
    "all_geo[4]=db.all.find({'created_at': {\"$gte\":\"Fri Nov 16 12:50:00 +0000 2018\",\"$lte\":\"Fri Nov 16 13:00:00 +0000 2018\"},\"place.full_name\":\"Glasgow, Scotland\"}).count()\n",
    "all_geo[5]=db.all.find({'created_at': {\"$gte\":\"Fri Nov 16 13:00:00 +0000 2018\",\"$lte\":\"Fri Nov 16 13:10:00 +0000 2018\"},\"place.full_name\":\"Glasgow, Scotland\"}).count()\n",
    "print(all_geo)\n",
    "\n",
    "all_retweets = np.zeros(6)\n",
    "all_retweets[0]=db.all.find({'created_at': {\"$gte\":\"Fri Nov 16 12:10:00 +0000 2018\",\"$lte\":\"Fri Nov 16 12:20:00 +0000 2018\"},\"retweeted_status\":{\"$ne\": None }}).count()\n",
    "all_retweets[1]=db.all.find({'created_at': {\"$gte\":\"Fri Nov 16 12:20:00 +0000 2018\",\"$lte\":\"Fri Nov 16 12:30:00 +0000 2018\"},\"retweeted_status\":{\"$ne\": None }}).count()\n",
    "all_retweets[2]=db.all.find({'created_at': {\"$gte\":\"Fri Nov 16 12:30:00 +0000 2018\",\"$lte\":\"Fri Nov 16 12:40:00 +0000 2018\"},\"retweeted_status\":{\"$ne\": None }}).count()\n",
    "all_retweets[3]=db.all.find({'created_at': {\"$gte\":\"Fri Nov 16 12:40:00 +0000 2018\",\"$lte\":\"Fri Nov 16 12:50:00 +0000 2018\"},\"retweeted_status\":{\"$ne\": None }}).count()\n",
    "all_retweets[4]=db.all.find({'created_at': {\"$gte\":\"Fri Nov 16 12:50:00 +0000 2018\",\"$lte\":\"Fri Nov 16 13:00:00 +0000 2018\"},\"retweeted_status\":{\"$ne\": None }}).count()\n",
    "all_retweets[5]=db.all.find({'created_at': {\"$gte\":\"Fri Nov 16 13:00:00 +0000 2018\",\"$lte\":\"Fri Nov 16 13:10:00 +0000 2018\"},\"retweeted_status\":{\"$ne\": None }}).count()\n",
    "print(all_retweets)\n",
    "\n",
    "all_quote = np.zeros(6)\n",
    "all_quote[0]=db.all.find({'created_at': {\"$gte\":\"Fri Nov 16 12:10:00 +0000 2018\",\"$lte\":\"Fri Nov 16 12:20:00 +0000 2018\"},\"is_quote_status\":{\"$ne\": False }}).count()\n",
    "all_quote[1]=db.all.find({'created_at': {\"$gte\":\"Fri Nov 16 12:20:00 +0000 2018\",\"$lte\":\"Fri Nov 16 12:30:00 +0000 2018\"},\"is_quote_status\":{\"$ne\": False }}).count()\n",
    "all_quote[2]=db.all.find({'created_at': {\"$gte\":\"Fri Nov 16 12:30:00 +0000 2018\",\"$lte\":\"Fri Nov 16 12:40:00 +0000 2018\"},\"is_quote_status\":{\"$ne\": False }}).count()\n",
    "all_quote[3]=db.all.find({'created_at': {\"$gte\":\"Fri Nov 16 12:40:00 +0000 2018\",\"$lte\":\"Fri Nov 16 12:50:00 +0000 2018\"},\"is_quote_status\":{\"$ne\": False }}).count()\n",
    "all_quote[4]=db.all.find({'created_at': {\"$gte\":\"Fri Nov 16 12:50:00 +0000 2018\",\"$lte\":\"Fri Nov 16 13:00:00 +0000 2018\"},\"is_quote_status\":{\"$ne\": False }}).count()\n",
    "all_quote[5]=db.all.find({'created_at': {\"$gte\":\"Fri Nov 16 13:00:00 +0000 2018\",\"$lte\":\"Fri Nov 16 13:10:00 +0000 2018\"},\"is_quote_status\":{\"$ne\": False }}).count()\n",
    "print(all_quote)\n"
   ]
  },
  {
   "cell_type": "code",
   "execution_count": 21,
   "metadata": {},
   "outputs": [
    {
     "name": "stdout",
     "output_type": "stream",
     "text": [
      "[201.0, 232.0, 216.0, 224.0, 225.0, 205.0]\n"
     ]
    }
   ],
   "source": [
    "all_redundant = [201.,232.,216.,224. ,225., 205.]   ##this colum was calculated by dividing database into 6 parts \n",
    "                                                    ##and then aggregating each of them\n",
    "print(all_redundant)"
   ]
  },
  {
   "cell_type": "code",
   "execution_count": 34,
   "metadata": {},
   "outputs": [
    {
     "name": "stderr",
     "output_type": "stream",
     "text": [
      "D:\\python\\lib\\site-packages\\ipykernel_launcher.py:7: DeprecationWarning: count is deprecated. Use Collection.count_documents instead.\n",
      "  import sys\n",
      "D:\\python\\lib\\site-packages\\ipykernel_launcher.py:8: DeprecationWarning: count is deprecated. Use Collection.count_documents instead.\n",
      "  \n",
      "D:\\python\\lib\\site-packages\\ipykernel_launcher.py:10: DeprecationWarning: count is deprecated. Use Collection.count_documents instead.\n",
      "  # Remove the CWD from sys.path while we load stuff.\n",
      "D:\\python\\lib\\site-packages\\ipykernel_launcher.py:11: DeprecationWarning: count is deprecated. Use Collection.count_documents instead.\n",
      "  # This is added back by InteractiveShellApp.init_path()\n"
     ]
    },
    {
     "name": "stdout",
     "output_type": "stream",
     "text": [
      "47997\n",
      "54685\n"
     ]
    },
    {
     "name": "stderr",
     "output_type": "stream",
     "text": [
      "D:\\python\\lib\\site-packages\\ipykernel_launcher.py:12: DeprecationWarning: count is deprecated. Use Collection.count_documents instead.\n",
      "  if sys.path[0] == '':\n",
      "D:\\python\\lib\\site-packages\\ipykernel_launcher.py:13: DeprecationWarning: count is deprecated. Use Collection.count_documents instead.\n",
      "  del sys.path[0]\n",
      "D:\\python\\lib\\site-packages\\ipykernel_launcher.py:14: DeprecationWarning: count is deprecated. Use Collection.count_documents instead.\n",
      "  \n"
     ]
    },
    {
     "name": "stdout",
     "output_type": "stream",
     "text": [
      "[7706. 7656. 7991. 8031. 8118. 8585.]\n",
      "[4687. 4702. 4808. 4770. 4993. 5116.]\n"
     ]
    },
    {
     "name": "stderr",
     "output_type": "stream",
     "text": [
      "D:\\python\\lib\\site-packages\\ipykernel_launcher.py:15: DeprecationWarning: count is deprecated. Use Collection.count_documents instead.\n",
      "  from ipykernel import kernelapp as app\n"
     ]
    },
    {
     "data": {
      "text/plain": [
       "<matplotlib.legend.Legend at 0xea5ce48>"
      ]
     },
     "execution_count": 34,
     "metadata": {},
     "output_type": "execute_result"
    },
    {
     "data": {
      "image/png": "[encoded data removed]",
      "text/plain": [
       "<matplotlib.figure.Figure at 0xd636940>"
      ]
     },
     "metadata": {},
     "output_type": "display_data"
    }
   ],
   "source": [
    "###statistics about the streaming sample\n",
    "client = MongoClient()\n",
    "            # Use twitterdb database. If it doesn't exist, it will be created.\n",
    "db = client.twitter\n",
    "all_count = np.zeros(6)\n",
    "\n",
    "print(db.all.find({'created_at': {\"$gte\":\"Fri Nov 16 12:10:00 +0000 2018\",\"$lte\":\"Fri Nov 16 13:10:00 +0000 2018\"}}).count())\n",
    "print(db.all.find().count())\n",
    "#print(result[\"created_at\"])\n",
    "all_count[0]=db.all.find({'created_at': {\"$gte\":\"Fri Nov 16 12:10:00 +0000 2018\",\"$lte\":\"Fri Nov 16 12:20:00 +0000 2018\"}}).count()\n",
    "all_count[1]=db.all.find({'created_at': {\"$gte\":\"Fri Nov 16 12:20:00 +0000 2018\",\"$lte\":\"Fri Nov 16 12:30:00 +0000 2018\"}}).count()\n",
    "all_count[2]=db.all.find({'created_at': {\"$gte\":\"Fri Nov 16 12:30:00 +0000 2018\",\"$lte\":\"Fri Nov 16 12:40:00 +0000 2018\"}}).count()\n",
    "all_count[3]=db.all.find({'created_at': {\"$gte\":\"Fri Nov 16 12:40:00 +0000 2018\",\"$lte\":\"Fri Nov 16 12:50:00 +0000 2018\"}}).count()\n",
    "all_count[4]=db.all.find({'created_at': {\"$gte\":\"Fri Nov 16 12:50:00 +0000 2018\",\"$lte\":\"Fri Nov 16 13:00:00 +0000 2018\"}}).count()\n",
    "all_count[5]=db.all.find({'created_at': {\"$gte\":\"Fri Nov 16 13:00:00 +0000 2018\",\"$lte\":\"Fri Nov 16 13:10:00 +0000 2018\"}}).count()\n",
    "print(all_count)\n",
    "print(all_retweets)\n",
    "fig=plt.figure(figsize=(7,7))\n",
    "ax=fig.add_subplot(1,1,1)\n",
    "ax.bar(range(len(all_count)),all_count,label='count')\n",
    "ax.bar(range(len(all_retweets)),all_retweets,label='retweets')\n",
    "ax.bar(range(len(all_quote)),all_quote,label='quote')\n",
    "ax.bar(range(len(all_redundant)),all_redundant,label='redundant',color='yellow')\n",
    "ax.bar(range(len(all_geo)),all_geo,color='red',label='geo-tagged')\n",
    "\n",
    "ax.set_title(\"all from 12:10 to 13:10\")\n",
    "ax.legend()\n",
    "\n",
    "\n"
   ]
  },
  {
   "cell_type": "code",
   "execution_count": 36,
   "metadata": {},
   "outputs": [
    {
     "name": "stderr",
     "output_type": "stream",
     "text": [
      "D:\\python\\lib\\site-packages\\ipykernel_launcher.py:2: DeprecationWarning: count is deprecated. Use Collection.count_documents instead.\n",
      "  \n",
      "D:\\python\\lib\\site-packages\\ipykernel_launcher.py:3: DeprecationWarning: count is deprecated. Use Collection.count_documents instead.\n",
      "  This is separate from the ipykernel package so we can avoid doing imports until\n",
      "D:\\python\\lib\\site-packages\\ipykernel_launcher.py:4: DeprecationWarning: count is deprecated. Use Collection.count_documents instead.\n",
      "  after removing the cwd from sys.path.\n",
      "D:\\python\\lib\\site-packages\\ipykernel_launcher.py:5: DeprecationWarning: count is deprecated. Use Collection.count_documents instead.\n",
      "  \"\"\"\n",
      "D:\\python\\lib\\site-packages\\ipykernel_launcher.py:6: DeprecationWarning: count is deprecated. Use Collection.count_documents instead.\n",
      "  \n",
      "D:\\python\\lib\\site-packages\\ipykernel_launcher.py:7: DeprecationWarning: count is deprecated. Use Collection.count_documents instead.\n",
      "  import sys\n",
      "D:\\python\\lib\\site-packages\\ipykernel_launcher.py:9: DeprecationWarning: count is deprecated. Use Collection.count_documents instead.\n",
      "  if __name__ == '__main__':\n",
      "D:\\python\\lib\\site-packages\\ipykernel_launcher.py:10: DeprecationWarning: count is deprecated. Use Collection.count_documents instead.\n",
      "  # Remove the CWD from sys.path while we load stuff.\n",
      "D:\\python\\lib\\site-packages\\ipykernel_launcher.py:11: DeprecationWarning: count is deprecated. Use Collection.count_documents instead.\n",
      "  # This is added back by InteractiveShellApp.init_path()\n",
      "D:\\python\\lib\\site-packages\\ipykernel_launcher.py:12: DeprecationWarning: count is deprecated. Use Collection.count_documents instead.\n",
      "  if sys.path[0] == '':\n",
      "D:\\python\\lib\\site-packages\\ipykernel_launcher.py:13: DeprecationWarning: count is deprecated. Use Collection.count_documents instead.\n",
      "  del sys.path[0]\n",
      "D:\\python\\lib\\site-packages\\ipykernel_launcher.py:14: DeprecationWarning: count is deprecated. Use Collection.count_documents instead.\n",
      "  \n"
     ]
    },
    {
     "data": {
      "text/plain": [
       "<matplotlib.legend.Legend at 0xf388208>"
      ]
     },
     "execution_count": 36,
     "metadata": {},
     "output_type": "execute_result"
    },
    {
     "data": {
      "image/png": "[encoded data removed]",
      "text/plain": [
       "<matplotlib.figure.Figure at 0x106670b8>"
      ]
     },
     "metadata": {},
     "output_type": "display_data"
    }
   ],
   "source": [
    "all_count = np.zeros(12)\n",
    "all_count[0]=db.all.find({'created_at': {\"$gte\":\"Fri Nov 16 12:10:00 +0000 2018\",\"$lte\":\"Fri Nov 16 12:20:00 +0000 2018\"}}).count()\n",
    "all_count[1]=db.all.find({'created_at': {\"$gte\":\"Fri Nov 16 12:20:00 +0000 2018\",\"$lte\":\"Fri Nov 16 12:30:00 +0000 2018\"}}).count()\n",
    "all_count[2]=db.all.find({'created_at': {\"$gte\":\"Fri Nov 16 12:30:00 +0000 2018\",\"$lte\":\"Fri Nov 16 12:40:00 +0000 2018\"}}).count()\n",
    "all_count[3]=db.all.find({'created_at': {\"$gte\":\"Fri Nov 16 12:40:00 +0000 2018\",\"$lte\":\"Fri Nov 16 12:50:00 +0000 2018\"}}).count()\n",
    "all_count[4]=db.all.find({'created_at': {\"$gte\":\"Fri Nov 16 12:50:00 +0000 2018\",\"$lte\":\"Fri Nov 16 13:00:00 +0000 2018\"}}).count()\n",
    "all_count[5]=db.all.find({'created_at': {\"$gte\":\"Fri Nov 16 13:00:00 +0000 2018\",\"$lte\":\"Fri Nov 16 13:10:00 +0000 2018\"}}).count()\n",
    "\n",
    "all_count[6]=db.all.find({'created_at': {\"$gte\":\"Fri Nov 16 13:40:00 +0000 2018\",\"$lte\":\"Fri Nov 16 13:50:00 +0000 2018\"}}).count()\n",
    "all_count[7]=db.all.find({'created_at': {\"$gte\":\"Fri Nov 16 13:50:00 +0000 2018\",\"$lte\":\"Fri Nov 16 14:00:00 +0000 2018\"}}).count()\n",
    "all_count[8]=db.all.find({'created_at': {\"$gte\":\"Fri Nov 16 14:00:00 +0000 2018\",\"$lte\":\"Fri Nov 16 14:10:00 +0000 2018\"}}).count()\n",
    "all_count[9]=db.all.find({'created_at': {\"$gte\":\"Fri Nov 16 14:10:00 +0000 2018\",\"$lte\":\"Fri Nov 16 14:20:00 +0000 2018\"}}).count()\n",
    "all_count[10]=db.all.find({'created_at': {\"$gte\":\"Fri Nov 16 14:20:00 +0000 2018\",\"$lte\":\"Fri Nov 16 14:30:00 +0000 2018\"}}).count()\n",
    "all_count[11]=db.all.find({'created_at': {\"$gte\":\"Fri Nov 16 14:30:00 +0000 2018\",\"$lte\":\"Fri Nov 16 14:40:00 +0000 2018\"}}).count()\n",
    "\n",
    "\n",
    "\n",
    "\n",
    "\n",
    "fig=plt.figure(figsize=(7,4))\n",
    "ax=fig.add_subplot(1,1,1)\n",
    "ax.bar(range(len(all_count)),all_count,label='count')\n",
    "ax.set_title(\"total amount \")\n",
    "ax.set_xticks(range(len(all_count)))\n",
    "ax.legend()"
   ]
  },
  {
   "cell_type": "code",
   "execution_count": 40,
   "metadata": {},
   "outputs": [
    {
     "name": "stderr",
     "output_type": "stream",
     "text": [
      "D:\\python\\lib\\site-packages\\ipykernel_launcher.py:2: DeprecationWarning: count is deprecated. Use Collection.count_documents instead.\n",
      "  \n",
      "D:\\python\\lib\\site-packages\\ipykernel_launcher.py:3: DeprecationWarning: count is deprecated. Use Collection.count_documents instead.\n",
      "  This is separate from the ipykernel package so we can avoid doing imports until\n",
      "D:\\python\\lib\\site-packages\\ipykernel_launcher.py:4: DeprecationWarning: count is deprecated. Use Collection.count_documents instead.\n",
      "  after removing the cwd from sys.path.\n",
      "D:\\python\\lib\\site-packages\\ipykernel_launcher.py:5: DeprecationWarning: count is deprecated. Use Collection.count_documents instead.\n",
      "  \"\"\"\n",
      "D:\\python\\lib\\site-packages\\ipykernel_launcher.py:6: DeprecationWarning: count is deprecated. Use Collection.count_documents instead.\n",
      "  \n",
      "D:\\python\\lib\\site-packages\\ipykernel_launcher.py:7: DeprecationWarning: count is deprecated. Use Collection.count_documents instead.\n",
      "  import sys\n",
      "D:\\python\\lib\\site-packages\\ipykernel_launcher.py:9: DeprecationWarning: count is deprecated. Use Collection.count_documents instead.\n",
      "  if __name__ == '__main__':\n",
      "D:\\python\\lib\\site-packages\\ipykernel_launcher.py:10: DeprecationWarning: count is deprecated. Use Collection.count_documents instead.\n",
      "  # Remove the CWD from sys.path while we load stuff.\n",
      "D:\\python\\lib\\site-packages\\ipykernel_launcher.py:11: DeprecationWarning: count is deprecated. Use Collection.count_documents instead.\n",
      "  # This is added back by InteractiveShellApp.init_path()\n",
      "D:\\python\\lib\\site-packages\\ipykernel_launcher.py:12: DeprecationWarning: count is deprecated. Use Collection.count_documents instead.\n",
      "  if sys.path[0] == '':\n",
      "D:\\python\\lib\\site-packages\\ipykernel_launcher.py:13: DeprecationWarning: count is deprecated. Use Collection.count_documents instead.\n",
      "  del sys.path[0]\n",
      "D:\\python\\lib\\site-packages\\ipykernel_launcher.py:14: DeprecationWarning: count is deprecated. Use Collection.count_documents instead.\n",
      "  \n"
     ]
    },
    {
     "data": {
      "text/plain": [
       "<matplotlib.legend.Legend at 0xf3d4978>"
      ]
     },
     "execution_count": 40,
     "metadata": {},
     "output_type": "execute_result"
    },
    {
     "data": {
      "image/png": "[encoded data removed]",
      "text/plain": [
       "<matplotlib.figure.Figure at 0x9744f28>"
      ]
     },
     "metadata": {},
     "output_type": "display_data"
    }
   ],
   "source": [
    "all_count = np.zeros(12)\n",
    "all_count[0]=db.all.find({'created_at': {\"$gte\":\"Fri Nov 16 12:10:00 +0000 2018\",\"$lte\":\"Fri Nov 16 12:20:00 +0000 2018\"},\"place.full_name\":\"Glasgow, Scotland\"}).count()\n",
    "all_count[1]=db.all.find({'created_at': {\"$gte\":\"Fri Nov 16 12:20:00 +0000 2018\",\"$lte\":\"Fri Nov 16 12:30:00 +0000 2018\"},\"place.full_name\":\"Glasgow, Scotland\"}).count()\n",
    "all_count[2]=db.all.find({'created_at': {\"$gte\":\"Fri Nov 16 12:30:00 +0000 2018\",\"$lte\":\"Fri Nov 16 12:40:00 +0000 2018\"},\"place.full_name\":\"Glasgow, Scotland\"}).count()\n",
    "all_count[3]=db.all.find({'created_at': {\"$gte\":\"Fri Nov 16 12:40:00 +0000 2018\",\"$lte\":\"Fri Nov 16 12:50:00 +0000 2018\"},\"place.full_name\":\"Glasgow, Scotland\"}).count()\n",
    "all_count[4]=db.all.find({'created_at': {\"$gte\":\"Fri Nov 16 12:50:00 +0000 2018\",\"$lte\":\"Fri Nov 16 13:00:00 +0000 2018\"},\"place.full_name\":\"Glasgow, Scotland\"}).count()\n",
    "all_count[5]=db.all.find({'created_at': {\"$gte\":\"Fri Nov 16 13:00:00 +0000 2018\",\"$lte\":\"Fri Nov 16 13:10:00 +0000 2018\"},\"place.full_name\":\"Glasgow, Scotland\"}).count()\n",
    "\n",
    "all_count[6]=db.all.find({'created_at': {\"$gte\":\"Fri Nov 16 13:40:00 +0000 2018\",\"$lte\":\"Fri Nov 16 13:50:00 +0000 2018\"},\"place.full_name\":\"Glasgow, Scotland\"}).count()\n",
    "all_count[7]=db.all.find({'created_at': {\"$gte\":\"Fri Nov 16 13:50:00 +0000 2018\",\"$lte\":\"Fri Nov 16 14:00:00 +0000 2018\"},\"place.full_name\":\"Glasgow, Scotland\"}).count()\n",
    "all_count[8]=db.all.find({'created_at': {\"$gte\":\"Fri Nov 16 14:00:00 +0000 2018\",\"$lte\":\"Fri Nov 16 14:10:00 +0000 2018\"},\"place.full_name\":\"Glasgow, Scotland\"}).count()\n",
    "all_count[9]=db.all.find({'created_at': {\"$gte\":\"Fri Nov 16 14:10:00 +0000 2018\",\"$lte\":\"Fri Nov 16 14:20:00 +0000 2018\"},\"place.full_name\":\"Glasgow, Scotland\"}).count()\n",
    "all_count[10]=db.all.find({'created_at': {\"$gte\":\"Fri Nov 16 14:20:00 +0000 2018\",\"$lte\":\"Fri Nov 16 14:30:00 +0000 2018\"},\"place.full_name\":\"Glasgow, Scotland\"}).count()\n",
    "all_count[11]=db.all.find({'created_at': {\"$gte\":\"Fri Nov 16 14:30:00 +0000 2018\",\"$lte\":\"Fri Nov 16 14:40:00 +0000 2018\"},\"place.full_name\":\"Glasgow, Scotland\"}).count()\n",
    "\n",
    "\n",
    "\n",
    "\n",
    "\n",
    "fig=plt.figure(figsize=(7,4))\n",
    "ax=fig.add_subplot(1,1,1)\n",
    "ax.bar(range(len(all_count)),all_count,label='geo-tagged')\n",
    "ax.set_title(\"total geo-tagged \")\n",
    "ax.set_xticks(range(len(all_count)))\n",
    "ax.legend()"
   ]
  },
  {
   "cell_type": "code",
   "execution_count": 3,
   "metadata": {},
   "outputs": [
    {
     "name": "stdout",
     "output_type": "stream",
     "text": [
      "<pymongo.cursor.Cursor object at 0x00000000097DB0B8>\n"
     ]
    }
   ],
   "source": [
    "client = MongoClient()\n",
    "            # Use twitterdb database. If it doesn't exist, it will be created.\n",
    "db = client.twitter\n",
    "all_count1=db.all.find({'created_at': {\"$gte\":\"Fri Nov 16 12:10:00 +0000 2018\",\"$lte\":\"Fri Nov 16 12:20:00 +0000 2018\"}})\n",
    "all_count2=db.all.find({'created_at': {\"$gte\":\"Fri Nov 16 12:20:00 +0000 2018\",\"$lte\":\"Fri Nov 16 12:30:00 +0000 2018\"}})\n",
    "all_count3=db.all.find({'created_at': {\"$gte\":\"Fri Nov 16 12:30:00 +0000 2018\",\"$lte\":\"Fri Nov 16 12:40:00 +0000 2018\"}})\n",
    "all_count4=db.all.find({'created_at': {\"$gte\":\"Fri Nov 16 12:40:00 +0000 2018\",\"$lte\":\"Fri Nov 16 12:50:00 +0000 2018\"}})\n",
    "all_count5=db.all.find({'created_at': {\"$gte\":\"Fri Nov 16 12:50:00 +0000 2018\",\"$lte\":\"Fri Nov 16 13:00:00 +0000 2018\"}})\n",
    "all_count6=db.all.find({'created_at': {\"$gte\":\"Fri Nov 16 13:00:00 +0000 2018\",\"$lte\":\"Fri Nov 16 13:10:00 +0000 2018\"}})\n"
   ]
  },
  {
   "cell_type": "code",
   "execution_count": 16,
   "metadata": {},
   "outputs": [
    {
     "name": "stdout",
     "output_type": "stream",
     "text": [
      "[201. 232. 216. 224. 225. 205.]\n"
     ]
    },
    {
     "name": "stderr",
     "output_type": "stream",
     "text": [
      "D:\\python\\lib\\site-packages\\ipykernel_launcher.py:8: DeprecationWarning: count is deprecated. Use Collection.count_documents instead.\n",
      "  \n"
     ]
    }
   ],
   "source": [
    "#all_redundant = np.zeros(6)\n",
    "\n",
    "redundancy=db.red6.aggregate([{\"$group\":{\"_id\":\"$id_str\"}}])\n",
    "shit = 0\n",
    "for redundant in redundancy:\n",
    "    #print(redundant)\n",
    "    shit += 1\n",
    "all_redundant[5]=db.red6.find().count()-shit\n",
    "print(all_redundant)"
   ]
  },
  {
   "cell_type": "code",
   "execution_count": 41,
   "metadata": {},
   "outputs": [
    {
     "name": "stdout",
     "output_type": "stream",
     "text": [
      "[201.0, 232.0, 216.0, 224.0, 225.0, 205.0]\n"
     ]
    },
    {
     "data": {
      "text/plain": [
       "<matplotlib.legend.Legend at 0x9a844a8>"
      ]
     },
     "execution_count": 41,
     "metadata": {},
     "output_type": "execute_result"
    },
    {
     "data": {
      "image/png": "[encoded data removed]",
      "text/plain": [
       "<matplotlib.figure.Figure at 0x99aa550>"
      ]
     },
     "metadata": {},
     "output_type": "display_data"
    }
   ],
   "source": [
    "all_redundant = [201.,232.,216.,224. ,225., 205.]\n",
    "print(all_redundant)\n",
    "fig=plt.figure(figsize=(7,4))\n",
    "ax=fig.add_subplot(1,1,1)\n",
    "ax.bar(range(len(all_redundant)),all_redundant,label='redundancy')\n",
    "ax.set_title(\"total redundancy \")\n",
    "ax.set_xticks(range(len(all_redundant)))\n",
    "ax.legend()"
   ]
  },
  {
   "cell_type": "code",
   "execution_count": 8,
   "metadata": {},
   "outputs": [
    {
     "name": "stderr",
     "output_type": "stream",
     "text": [
      "D:\\python\\lib\\site-packages\\ipykernel_launcher.py:4: DeprecationWarning: insert is deprecated. Use insert_one or insert_many instead.\n",
      "  after removing the cwd from sys.path.\n"
     ]
    }
   ],
   "source": [
    "for i in all_count5:\n",
    "    client = MongoClient()\n",
    "    db = client.twitter\n",
    "    db.red5.insert(i)"
   ]
  },
  {
   "cell_type": "code",
   "execution_count": 9,
   "metadata": {},
   "outputs": [
    {
     "name": "stderr",
     "output_type": "stream",
     "text": [
      "D:\\python\\lib\\site-packages\\ipykernel_launcher.py:4: DeprecationWarning: insert is deprecated. Use insert_one or insert_many instead.\n",
      "  after removing the cwd from sys.path.\n"
     ]
    }
   ],
   "source": [
    "for i in all_count6:\n",
    "    client = MongoClient()\n",
    "    db = client.twitter\n",
    "    db.red6.insert(i)"
   ]
  },
  {
   "cell_type": "code",
   "execution_count": 16,
   "metadata": {},
   "outputs": [
    {
     "name": "stdout",
     "output_type": "stream",
     "text": [
      "streaming sample: 44180\n",
      "streaming topic: 2295\n",
      "streaming geo: 518\n",
      "REST gla: 61291\n"
     ]
    },
    {
     "name": "stderr",
     "output_type": "stream",
     "text": [
      "D:\\python\\lib\\site-packages\\ipykernel_launcher.py:4: DeprecationWarning: count is deprecated. Use Collection.count_documents instead.\n",
      "  after removing the cwd from sys.path.\n",
      "D:\\python\\lib\\site-packages\\ipykernel_launcher.py:5: DeprecationWarning: count is deprecated. Use Collection.count_documents instead.\n",
      "  \"\"\"\n",
      "D:\\python\\lib\\site-packages\\ipykernel_launcher.py:6: DeprecationWarning: count is deprecated. Use Collection.count_documents instead.\n",
      "  \n",
      "D:\\python\\lib\\site-packages\\ipykernel_launcher.py:7: DeprecationWarning: count is deprecated. Use Collection.count_documents instead.\n",
      "  import sys\n"
     ]
    }
   ],
   "source": [
    "client = MongoClient()\n",
    "            # Use twitterdb database. If it doesn't exist, it will be created.\n",
    "db = client.twitter\n",
    "print(\"streaming sample:\",db.streaming_sample.find().count())\n",
    "print(\"streaming topic:\",db.streaming_topic.find().count())\n",
    "print(\"streaming geo:\",db.streaming_geo.find().count())\n",
    "print(\"REST gla:\",db.REST_glasgow.find().count())"
   ]
  },
  {
   "cell_type": "code",
   "execution_count": 47,
   "metadata": {},
   "outputs": [
    {
     "name": "stderr",
     "output_type": "stream",
     "text": [
      "D:\\python\\lib\\site-packages\\ipykernel_launcher.py:4: DeprecationWarning: remove is deprecated. Use delete_one or delete_many instead.\n",
      "  after removing the cwd from sys.path.\n"
     ]
    },
    {
     "data": {
      "text/plain": [
       "{'n': 52771, 'ok': 1.0}"
      ]
     },
     "execution_count": 47,
     "metadata": {},
     "output_type": "execute_result"
    }
   ],
   "source": [
    "#cut the useless data\n",
    "client = MongoClient()\n",
    "db = client.twitter\n",
    "db.slide.remove({'created_at': {\"$lte\":\"Fri Nov 16 13:09:13 +0000 2018\"}})\n",
    "#db.slide.remove({'created_at': {\"$gte\":\"Fri Nov 16 13:55:00 +0000 2018\"}})\n",
    "##db.streaming_geo.remove({'created_at': {\"$lte\":\"Fri Nov 16 13:40:00 +0000 2018\"}})\n",
    "###db.streaming_geoafter.remove({'created_at': {\"$gte\":\"Fri Nov 16 14:40:00 +0000 2018\"}})\n",
    "###db.REST_glasowafter.remove({'created_at': {\"$lte\":\"Fri Nov 16 12:10:00 +0000 2018\"}})\n",
    "###db.REST_glasowafter.remove({'created_at': {\"$gte\":\"Fri Nov 16 13:10:00 +0000 2018\"}})\n",
    "###db.REST_topicafter.remove({'created_at': {\"$lte\":\"Fri Nov 16 12:10:00 +0000 2018\"}})\n",
    "###db.REST_topicafter.remove({'created_at': {\"$gte\":\"Fri Nov 16 13:10:00 +0000 2018\"}})"
   ]
  },
  {
   "cell_type": "code",
   "execution_count": 21,
   "metadata": {
    "scrolled": true
   },
   "outputs": [
    {
     "name": "stderr",
     "output_type": "stream",
     "text": [
      "D:\\python\\lib\\site-packages\\ipykernel_launcher.py:4: DeprecationWarning: count is deprecated. Use Collection.count_documents instead.\n",
      "  after removing the cwd from sys.path.\n"
     ]
    },
    {
     "name": "stdout",
     "output_type": "stream",
     "text": [
      "the amount of data: 54685\n"
     ]
    },
    {
     "name": "stderr",
     "output_type": "stream",
     "text": [
      "D:\\python\\lib\\site-packages\\ipykernel_launcher.py:5: DeprecationWarning: count is deprecated. Use Collection.count_documents instead.\n",
      "  \"\"\"\n"
     ]
    },
    {
     "name": "stdout",
     "output_type": "stream",
     "text": [
      "the amount of geo-tagged 1431\n"
     ]
    },
    {
     "name": "stderr",
     "output_type": "stream",
     "text": [
      "D:\\python\\lib\\site-packages\\ipykernel_launcher.py:6: DeprecationWarning: count is deprecated. Use Collection.count_documents instead.\n",
      "  \n"
     ]
    },
    {
     "name": "stdout",
     "output_type": "stream",
     "text": [
      "the Glasgow geo-tagged data 485\n"
     ]
    },
    {
     "name": "stderr",
     "output_type": "stream",
     "text": [
      "D:\\python\\lib\\site-packages\\ipykernel_launcher.py:12: DeprecationWarning: count is deprecated. Use Collection.count_documents instead.\n",
      "  if sys.path[0] == '':\n"
     ]
    },
    {
     "name": "stdout",
     "output_type": "stream",
     "text": [
      "redundant data 1309\n"
     ]
    },
    {
     "name": "stderr",
     "output_type": "stream",
     "text": [
      "D:\\python\\lib\\site-packages\\ipykernel_launcher.py:13: DeprecationWarning: count is deprecated. Use Collection.count_documents instead.\n",
      "  del sys.path[0]\n"
     ]
    },
    {
     "name": "stdout",
     "output_type": "stream",
     "text": [
      "retweet amount 32935\n"
     ]
    },
    {
     "name": "stderr",
     "output_type": "stream",
     "text": [
      "D:\\python\\lib\\site-packages\\ipykernel_launcher.py:14: DeprecationWarning: count is deprecated. Use Collection.count_documents instead.\n",
      "  \n"
     ]
    },
    {
     "name": "stdout",
     "output_type": "stream",
     "text": [
      "quote amount 7009\n"
     ]
    }
   ],
   "source": [
    "client = MongoClient()\n",
    "db = client.twitter\n",
    "\n",
    "print(\"the amount of data:\",db.all.find().count())\n",
    "print(\"the amount of geo-tagged\",db.all.find({\"place\":{\"$ne\": None }}).count())\n",
    "print(\"the Glasgow geo-tagged data\",db.all.find({\"place.full_name\":\"Glasgow, Scotland\"}).count())\n",
    "redundancy=db.all.aggregate([{\"$group\":{\"_id\":\"$id_str\"}}])\n",
    "shit = 0\n",
    "for redundant in redundancy:\n",
    "    #print(redundant)\n",
    "    shit += 1\n",
    "print(\"redundant data\",db.all.find().count()-shit)\n",
    "print(\"retweet amount\",db.all.find({\"retweeted_status\":{\"$ne\": None }}).count())\n",
    "print(\"quote amount\",db.all.find({\"is_quote_status\": True}).count())\n"
   ]
  },
  {
   "cell_type": "code",
   "execution_count": 56,
   "metadata": {},
   "outputs": [],
   "source": [
    "#take out the redundant data\n",
    "\n",
    "\n",
    "client = MongoClient()\n",
    "            # Use twitterdb database. If it doesn't exist, it will be created.\n",
    "db = client.twitter\n",
    "redundancy=db.all.aggregate([{\"$group\":{\"_id\":\"$id_str\"}}])\n",
    "for redundant in redundancy:\n",
    "    i=redundant[\"_id\"]\n",
    "    wtf = db.all.find({\"id_str\":i,\"retweeted_status\":None,\"is_quote_status\":False})\n",
    "    j=0\n",
    "    for data in wtf:\n",
    "        if j>0:\n",
    "            break\n",
    "        else:\n",
    "            db.after.insert_one(data)\n",
    "        j=j+1"
   ]
  },
  {
   "cell_type": "code",
   "execution_count": 5,
   "metadata": {},
   "outputs": [],
   "source": [
    "import spacy\n",
    "from spacy import displacy\n",
    "from collections import Counter\n",
    "\n",
    "import en_core_web_sm\n",
    "\n"
   ]
  },
  {
   "cell_type": "code",
   "execution_count": 3,
   "metadata": {},
   "outputs": [
    {
     "name": "stderr",
     "output_type": "stream",
     "text": [
      "D:\\python\\lib\\site-packages\\ipykernel_launcher.py:1: DeprecationWarning: count is deprecated. Use Collection.count_documents instead.\n",
      "  \"\"\"Entry point for launching an IPython kernel.\n"
     ]
    },
    {
     "name": "stdout",
     "output_type": "stream",
     "text": [
      "the Glasgow geo-tagged data 221\n"
     ]
    }
   ],
   "source": [
    "print(\"the Glasgow geo-tagged data\",db.REST_glasowafter.find({\"place.full_name\":\"Glasgow, Scotland\"}).count())\n"
   ]
  },
  {
   "cell_type": "code",
   "execution_count": 3,
   "metadata": {},
   "outputs": [],
   "source": [
    "###ner-filter take out the meaningless data like good morening or \n",
    "import spacy\n",
    "from spacy import displacy\n",
    "from collections import Counter\n",
    "\n",
    "import en_core_web_sm\n",
    "\n",
    "\n",
    "\n",
    "client = MongoClient()\n",
    "db = client.twitter\n",
    "                                                            \n",
    "mycol = db.after\n",
    "sets = mycol.find()\n",
    "\n",
    "nlp = en_core_web_sm.load()             #load the word database\n",
    "                            \n",
    "for set in sets:\n",
    "    doc = nlp(set['text'])\n",
    "\n",
    "    i1 = 0\n",
    "    i2 = 0\n",
    "    i3 = 0\n",
    "                        #set the organization, person and location elements\n",
    "    orgstr = \"\"\n",
    "    locstr = \"\"\n",
    "    pstr = \"\"\n",
    "\n",
    "\n",
    "    for X in doc.ents:\n",
    "        str = X.label_\n",
    "        if ord(X.text[0])>64 and ord(X.text[0])<123:\n",
    "            if (str is \"ORG\"):\n",
    "                if(i1==0):\n",
    "                    orgstr = X.text.lower()\n",
    "                    i1==1\n",
    "\n",
    "            elif (str is \"LOC\"):\n",
    "                if(i2==0):\n",
    "                    locstr =  X.text.lower()\n",
    "                    i2=1\n",
    "\n",
    "            elif (str is \"PERSON\"):\n",
    "                if(i3==0):\n",
    "                    pstr = X.text.lower()\n",
    "                    i3=1\n",
    "\n",
    "\n",
    "\n",
    "\n",
    "\n",
    "    if (orgstr is not \"\") or (locstr is not \"\") or (pstr is not \"\"):\n",
    "        id=set['id']\n",
    "\n",
    "        db.new2.insert_one({\"id\":id,\"ORG\": orgstr,\"LOC\": locstr,\"PERSON\": pstr,\"TagNum\": 0,\"ORGTAG\":0,\"PTAG\":0,\"LOCTAG\":0,\"Amount\":0})\n"
   ]
  },
  {
   "cell_type": "code",
   "execution_count": 53,
   "metadata": {},
   "outputs": [
    {
     "name": "stdout",
     "output_type": "stream",
     "text": [
      "2407\n",
      "2747\n",
      "115\n",
      "org 2747\n",
      "person 12407\n",
      "loc 20115\n",
      "4647\n"
     ]
    }
   ],
   "source": [
    "#implement the algorithm\n",
    "\n",
    "import operator\n",
    "\n",
    "\n",
    "DISTANCE = 10000\n",
    "\n",
    "client = MongoClient()\n",
    "db = client.twitter\n",
    "\n",
    "\n",
    "orglist = []\n",
    "personlist = []\n",
    "loclist = []\n",
    "\n",
    "\n",
    "DATASET= db.new2.aggregate([{\"$group\":{\"_id\":\"$PERSON\"}}])\n",
    "for data in DATASET:\n",
    "    if not operator.eq(data['_id'],\"\"):\n",
    "        personlist.append(data['_id'])              \n",
    "print(len(personlist))\n",
    "\n",
    "DATASET= db.new2.aggregate([{\"$group\":{\"_id\":\"$ORG\"}}])\n",
    "for data in DATASET:\n",
    "    if not operator.eq(data['_id'], \"\"):\n",
    "        orglist.append(data['_id'])\n",
    "print(len(orglist))\n",
    "\n",
    "DATASET= db.new2.aggregate([{\"$group\":{\"_id\":\"$LOC\"}}])\n",
    "for data in DATASET:\n",
    "    if not operator.eq(data['_id'], \"\"):\n",
    "        loclist.append(data['_id'])\n",
    "print(len(loclist))\n",
    "\n",
    "\n",
    "G = 0\n",
    "GG = DISTANCE\n",
    "GGG = DISTANCE * 2\n",
    "GGGG = DISTANCE * 3\n",
    "\n",
    "orgONE = []\n",
    "personONE = []\n",
    "locONE = []\n",
    "\n",
    "myquery = {\"TagNum\": {'$ne':0}}\n",
    "newvalues = {\"$set\": {\"TagNum\": 0,\"ORGTAG\":0,\"PTAG\":0,\"LOCTAG\":0}}\n",
    "mycol.update_many(myquery, newvalues)\n",
    "\n",
    "\n",
    "\n",
    "for i in range(len(orglist)):\n",
    "    ones = db.new2.find()\n",
    "    for one in ones:\n",
    "        if (operator.eq(one['ORG'],orglist[i])):\n",
    "            orgONE.append(orglist[i])\n",
    "            #orgID.append(one['_id'])\n",
    "            myquery = {\"_id\": one['_id']}                            \n",
    "            t=one['TagNum']+1\n",
    "            newvalues = {\"$set\": {\"NG\": G,\"ORGTAG\":1,\"TagNum\":t}}\n",
    "            db.new2.update_many(myquery, newvalues)\n",
    "    G = G + 1\n",
    "print(\"org\",G)\n",
    "\n",
    "for i in range(len(personlist)):\n",
    "    # print(\"list \",list[i])\n",
    "    ones = db.new2.find()\n",
    "    for one in ones:\n",
    "        if (operator.eq(one['PERSON'],personlist[i])):\n",
    "            personONE.append(personlist[i])\n",
    "            #personID.append(one['_id'])\n",
    "            myquery = {\"_id\": one['_id']}\n",
    "            t = one['TagNum'] + 1\n",
    "            newvalues = {\"$set\": {\"NG\": GG,\"PTAG\":1,\"TagNum\":t}}\n",
    "            db.new2.update_many(myquery, newvalues)\n",
    "    GG = GG + 1\n",
    "print(\"person\",GG)\n",
    "\n",
    "for i in range(len(loclist)):\n",
    "    ones = db.new2.find()\n",
    "    for one in ones:\n",
    "        if (operator.eq(one['LOC'],loclist[i])):\n",
    "            locONE.append(loclist[i])\n",
    "            #locID.append(one['_id'])\n",
    "            myquery = {\"_id\": one['_id']}\n",
    "            t = one['TagNum'] + 1\n",
    "            newvalues = {\"$set\": {\"NG\": GGG,\"LOCTAG\":1,\"TagNum\":t}}\n",
    "            db.new2.update_many(myquery, newvalues)\n",
    "    GGG = GGG + 1\n",
    "print(\"loc\",GGG)\n",
    "\n",
    "DATASET= db.new2.aggregate([{\"$group\":{\"_id\":\"$NG\"}}])\n",
    "\n",
    "i=0\n",
    "for data in DATASET:\n",
    "    i+=1\n",
    "\n",
    "ones = db.new2.find()\n",
    "for one in ones:\n",
    "    if (one['TagNum']==3):\n",
    "        myquery =  {'$or':[{\"LOC\": one['LOC']},{\"PERSON\": one['PERSON']},{\"ORG\": one['ORG']}]}\n",
    "        newvalues = {\"$set\": {\"NG\": GGGG,\"TagNum\":4}}\n",
    "        db.new2.update_many(myquery, newvalues)\n",
    "        GGGG += 1\n",
    "\n",
    "\n",
    "    elif(one['TagNum']==2):\n",
    "\n",
    "        if one['ORGTAG']==1 and one['LOCTAG']==1:\n",
    "            myquery = {'$or': [{\"LOC\": one['LOC']},{\"ORG\": one['ORG']}]}\n",
    "            newvalues = {\"$set\": {\"NG\": GGGG, \"TagNum\": 5}}\n",
    "        elif one['ORGTAG']==1 and one['PTAG']==1:\n",
    "            myquery = {'$or': [{\"PERSON\": one['PERSON']},{\"ORG\": one['ORG']}]}\n",
    "            newvalues = {\"$set\": {\"NG\": GGGG, \"TagNum\": 5}}\n",
    "        elif one['PTAG']==1 and one['LOCTAG']==1:\n",
    "            myquery = {'$or': [{\"LOC\": one['LOC']},{\"PERSON\": one['PERSON']}]}\n",
    "            newvalues = {\"$set\": {\"NG\": GGGG, \"TagNum\": 5}}\n",
    "\n",
    "        db.new2.update_many(myquery, newvalues)\n",
    "        GGGG += 1\n",
    "\n",
    "DATASET= db.new2.aggregate([{\"$group\":{\"_id\":\"$NG\"}}])\n",
    "\n",
    "i=0\n",
    "for data in DATASET:\n",
    "    i+=1\n",
    "print(i)\n",
    "\n"
   ]
  },
  {
   "cell_type": "code",
   "execution_count": 54,
   "metadata": {},
   "outputs": [
    {
     "name": "stdout",
     "output_type": "stream",
     "text": [
      "4647\n"
     ]
    }
   ],
   "source": [
    "import operator\n",
    "\n",
    "client = MongoClient()\n",
    "db = client.twitter\n",
    "\n",
    "#mygroup = mydb[NEWDATABASE]\n",
    "\n",
    "DATASET= db.new2.aggregate([{\"$group\":{\"_id\":\"$NG\"}}])\n",
    "\n",
    "i=0\n",
    "for data in DATASET:\n",
    "    ggs = db.new2.find({'NG': data['_id']})\n",
    "    count = 0\n",
    "    for gg in ggs:\n",
    "        count+=1\n",
    "\n",
    "    myquery = {\"NG\":data['_id'] }\n",
    "    newvalues = {\"$set\": {\"Amount\": count}}\n",
    "    db.new2.update_many(myquery, newvalues)\n",
    "\n",
    "    i+=1\n",
    "\n",
    "print(i)"
   ]
  },
  {
   "cell_type": "code",
   "execution_count": 55,
   "metadata": {},
   "outputs": [],
   "source": [
    "\n",
    "import operator\n",
    "\n",
    "client = MongoClient()\n",
    "db = client.twitter\n",
    "\n",
    "mycol = db.new2\n",
    "\n",
    "\n",
    "myquery = {\"Amount\": {'$ne':1}}\n",
    "\n",
    "DATASET= mycol.find(myquery)\n",
    "\n",
    "for data in DATASET:                #take the tweet with the same elements into the same group\n",
    "    db.newgroup.insert_one(data)"
   ]
  },
  {
   "cell_type": "code",
   "execution_count": 57,
   "metadata": {},
   "outputs": [
    {
     "name": "stderr",
     "output_type": "stream",
     "text": [
      "D:\\python\\lib\\site-packages\\ipykernel_launcher.py:15: DeprecationWarning: count is deprecated. Use Collection.count_documents instead.\n",
      "  from ipykernel import kernelapp as app\n",
      "D:\\python\\lib\\site-packages\\matplotlib\\cbook\\deprecation.py:106: MatplotlibDeprecationWarning: Adding an axes using the same arguments as a previous axes currently reuses the earlier instance.  In a future version, a new instance will always be created and returned.  Meanwhile, this warning can be suppressed, and the future behavior ensured, by passing a unique label to each axes instance.\n",
      "  warnings.warn(message, mplDeprecation, stacklevel=1)\n"
     ]
    },
    {
     "name": "stdout",
     "output_type": "stream",
     "text": [
      "the number of group is 0\n"
     ]
    },
    {
     "data": {
      "image/png": "[encoded data removed]",
      "text/plain": [
       "<matplotlib.figure.Figure at 0x9f0bc18>"
      ]
     },
     "metadata": {},
     "output_type": "display_data"
    }
   ],
   "source": [
    "import operator\n",
    "\n",
    "DATABASENAME = \"local\"\n",
    "rect = np.zeros(564)\n",
    "NEWDATABASE = \"GroupData\"\n",
    "\n",
    "client = MongoClient()\n",
    "db = client.twitter\n",
    "\n",
    "\n",
    "DATASET= db.newgroup.aggregate([{\"$group\":{\"_id\":\"$NG\"}}])\n",
    "i=0\n",
    "for tweet in DATASET:\n",
    "    id = tweet['_id']\n",
    "    rect[i] = db.newgroup.find({\"NG\":id}).count()\n",
    "    i += 1\n",
    "\n",
    "fig=plt.figure()\n",
    "plt.ylim(0,110)\n",
    "ax=fig.add_subplot(1,1,1)\n",
    "ax.bar(range(len(rect)),rect)\n",
    "ax.set_title(\"Count the amount of data \")\n",
    "i=0\n",
    "for data in DATASET:\n",
    "    i+=1\n",
    "print(\"the number of group is\",i)\n"
   ]
  },
  {
   "cell_type": "code",
   "execution_count": 48,
   "metadata": {},
   "outputs": [],
   "source": [
    "## cut the data for 5 mins\n",
    "\n",
    "\n",
    "import numpy as np\n",
    "import pymongo\n",
    "import matplotlib as mpl\n",
    "import matplotlib.pyplot as plt\n",
    "\n",
    "myclient = pymongo.MongoClient(\"mongodb://localhost:27017/\")\n",
    "mydb = myclient[\"twitter\"] #database name\n",
    "\n",
    "mycol = mydb[\"all\"]\n",
    "mynew = mydb[\"5min\"]\n",
    "\n",
    "# insert five mins for all data\n",
    "mins = mycol.find({'created_at': {\"$gte\":\"Fri Nov 16 12:10:56 +0000 2018\",\"$lte\":\"Fri Nov 16 12:15:56 +0000 2018\"}})\n",
    "\n",
    "for min in mins:\n",
    "    mynew.insert_one(min)\n",
    "\n",
    "#insert five mins for geodata(geodata is in next hour)\n",
    "mins = mycol.find({'created_at': {\"$gte\":\"Fri Nov 16 13:30:56 +0000 2018\",\"$lte\":\"Fri Nov 16 13:35:56 +0000 2018\"}})\n",
    "\n",
    "for min in mins:\n",
    "    mynew.insert_one(min)"
   ]
  },
  {
   "cell_type": "code",
   "execution_count": null,
   "metadata": {},
   "outputs": [],
   "source": []
  }
 ],
 "metadata": {
  "kernelspec": {
   "display_name": "Python 3",
   "language": "python",
   "name": "python3"
  },
  "language_info": {
   "codemirror_mode": {
    "name": "ipython",
    "version": 3
   },
   "file_extension": ".py",
   "mimetype": "text/x-python",
   "name": "python",
   "nbconvert_exporter": "python",
   "pygments_lexer": "ipython3",
   "version": "3.6.4"
  }
 },
 "nbformat": 4,
 "nbformat_minor": 2
}
