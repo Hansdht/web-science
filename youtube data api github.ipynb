{
 "cells": [
  {
   "cell_type": "code",
   "execution_count": 45,
   "metadata": {},
   "outputs": [],
   "source": [
    "from apiclient.discovery import build #pip install google-api-python-client\n",
    "from apiclient.errors import HttpError #pip install google-api-python-client\n",
    "from oauth2client.tools import argparser #pip install oauth2client\n"
   ]
  },
  {
   "cell_type": "markdown",
   "metadata": {},
   "source": [
    "* ## data api filtering by specific topic"
   ]
  },
  {
   "cell_type": "code",
   "execution_count": null,
   "metadata": {},
   "outputs": [],
   "source": [
    "#youtube loop\n",
    "\n",
    "\n",
    "from apiclient.discovery import build #pip install google-api-python-client\n",
    "from apiclient.errors import HttpError #pip install google-api-python-client\n",
    "from oauth2client.tools import argparser #pip install oauth2client\n",
    "import numpy as np\n",
    "import json\n",
    "from pymongo import MongoClient\n",
    "\n",
    "DEVELOPER_KEY = \"\"  #the key of the data api was took on the google \n",
    "YOUTUBE_API_SERVICE_NAME = \"youtube\"\n",
    "YOUTUBE_API_VERSION = \"v3\"\n",
    "token = \"\"    #this token is set to get the data from next page \n",
    "\n",
    "def youtube_search (options):\n",
    "    youtube = build(YOUTUBE_API_SERVICE_NAME, YOUTUBE_API_VERSION,\n",
    "    developerKey=DEVELOPER_KEY) \n",
    "  # Call the search.list method to retrieve results matching the specified\n",
    "  # query term.               #add the list\n",
    "    search_response = youtube.search().list(    \n",
    "    q=options[\"q\"],                      \n",
    "    part=\"id,snippet\",\n",
    "    maxResults=options[\"max_results\"],\n",
    "    pageToken = options[\"token\"]\n",
    "  ).execute()\n",
    "    #the token here is about the next page, the current token was replaced by the nextpage token every loop\n",
    "    videos = []\n",
    "    channels = []\n",
    "    playlists = []\n",
    "  # Add each result to the appropriate list, and then display the lists of\n",
    "  # matching videos, channels, and playlists.\n",
    "    for search_result in search_response.get(\"items\", []):\n",
    "        client = MongoClient()\n",
    "        db = client.youtube\n",
    "        db.youtube.insert(search_result)         # insert into mongodb, named youtube\n",
    "        if search_result[\"id\"][\"kind\"] == \"youtube#video\":\n",
    "            videos.append(\"%s (%s)\" % (search_result[\"snippet\"][\"title\"],\n",
    "                                 search_result[\"id\"][\"videoId\"]))\n",
    "        elif search_result[\"id\"][\"kind\"] == \"youtube#channel\":\n",
    "            channels.append(\"%s (%s)\" % (search_result[\"snippet\"][\"title\"],\n",
    "                                   search_result[\"id\"][\"channelId\"]))\n",
    "        elif search_result[\"id\"][\"kind\"] == \"youtube#playlist\":\n",
    "            playlists.append(\"%s (%s)\" % (search_result[\"snippet\"][\"title\"],\n",
    "                                    search_result[\"id\"][\"playlistId\"]))\n",
    "\n",
    "    print (\"Videos:\\n\", \"\\n\".join(videos), \"\\n\")\n",
    "    print (\"Channels:\\n\", \"\\n\".join(channels), \"\\n\")\n",
    "    print (\"Playlists:\\n\", \"\\n\".join(playlists), \"\\n\")\n",
    "    token = search_response.get(\"nextPageToken\")  \n",
    "   # print(token)\n",
    "   # print(search_response.get(\"prevPageToken\") )\n",
    "    return token\n",
    "    \n",
    "if __name__ == \"__main__\":\n",
    "   \n",
    "    keywords = np.array(['whisky', 'wine', 'beer', 'spirit', 'ale', 'brandy', 'rum'])\n",
    "    while token !=None:\n",
    "        for i in range (keywords.shape[0]):\n",
    "            try:    \n",
    "                args={\"q\":keywords[i],\"max_results\":50,\"token\":token}\n",
    "                token = youtube_search(args)\n",
    "                \n",
    "            except HttpError as e:\n",
    "                print (\"An HTTP error %d occurred:\\n%s\" % (e.resp.status, e.content))"
   ]
  },
  {
   "cell_type": "markdown",
   "metadata": {},
   "source": [
    "* ## Searching data from Glasgow"
   ]
  },
  {
   "cell_type": "code",
   "execution_count": null,
   "metadata": {},
   "outputs": [],
   "source": [
    "from apiclient.discovery import build #pip install google-api-python-client\n",
    "from apiclient.errors import HttpError #pip install google-api-python-client\n",
    "from oauth2client.tools import argparser #pip install oauth2client\n",
    "import json\n",
    "from pymongo import MongoClient\n",
    "\n",
    "DEVELOPER_KEY = \"\"\n",
    "YOUTUBE_API_SERVICE_NAME = \"youtube\"\n",
    "YOUTUBE_API_VERSION = \"v3\"\n",
    "token = \"\"\n",
    "\n",
    "def youtube_search (options):\n",
    "    youtube = build(YOUTUBE_API_SERVICE_NAME, YOUTUBE_API_VERSION,\n",
    "    developerKey=DEVELOPER_KEY)\n",
    "  # Call the search.list method to retrieve results matching the specified\n",
    "  # query term.\n",
    "    search_response = youtube.search().list(\n",
    "    q=options['q'],\n",
    "    part='id,snippet',\n",
    "    maxResults=options['max_results'],\n",
    "    type='video',\n",
    "    location=options['location'],\n",
    "    locationRadius=options['location_radius'],\n",
    "    pageToken = options[\"token\"],\n",
    "  ).execute()\n",
    "\n",
    "    videos = []\n",
    "    channels = []\n",
    "    playlists = []\n",
    "  # Add each result to the appropriate list, and then display the lists of\n",
    "  # matching videos, channels, and playlists.\n",
    "    for search_result in search_response.get(\"items\", []):\n",
    "        client = MongoClient()\n",
    "        db = client.youtube\n",
    "        db.youtubelocation.insert(search_result)     # insert into mongodb\n",
    "        if search_result[\"id\"][\"kind\"] == \"youtube#video\":\n",
    "            videos.append(\"%s (%s)\" % (search_result[\"snippet\"][\"title\"],\n",
    "                                 search_result[\"id\"][\"videoId\"]))\n",
    "        elif search_result[\"id\"][\"kind\"] == \"youtube#channel\":\n",
    "            channels.append(\"%s (%s)\" % (search_result[\"snippet\"][\"title\"],\n",
    "                                   search_result[\"id\"][\"channelId\"]))\n",
    "        elif search_result[\"id\"][\"kind\"] == \"youtube#playlist\":\n",
    "            playlists.append(\"%s (%s)\" % (search_result[\"snippet\"][\"title\"],\n",
    "                                    search_result[\"id\"][\"playlistId\"]))\n",
    "\n",
    "    print (\"Videos:\\n\", \"\\n\".join(videos), \"\\n\")\n",
    "    print (\"Channels:\\n\", \"\\n\".join(channels), \"\\n\")\n",
    "    print (\"Playlists:\\n\", \"\\n\".join(playlists), \"\\n\")\n",
    "    token = search_response.get(\"nextPageToken\")  \n",
    "   # print(token)\n",
    "   # print(search_response.get(\"prevPageToken\") )\n",
    "    return token\n",
    "    \n",
    "if __name__ == \"__main__\":\n",
    "   \n",
    "    #args={\"q\":\"whisky\",\"max_results\":50,\"token\":token}\n",
    "    while token !=None:\n",
    "        try:    \n",
    "            args={\"q\":\"\",\"max_results\":50,\"location\":\"55.862125, -4.255981\",\"token\":token ,\"location_radius\":\"70km\"}\n",
    "            token = youtube_search(args)\n",
    "                \n",
    "        except (HttpError, e):\n",
    "             print (\"An HTTP error %d occurred:\\n%s\" % (e.resp.status, e.content))"
   ]
  },
  {
   "cell_type": "markdown",
   "metadata": {},
   "source": [
    "* ## statistics"
   ]
  },
  {
   "cell_type": "code",
   "execution_count": 4,
   "metadata": {},
   "outputs": [
    {
     "name": "stdout",
     "output_type": "stream",
     "text": [
      "4108\n",
      "4107\n",
      "640\n",
      "639\n"
     ]
    },
    {
     "name": "stderr",
     "output_type": "stream",
     "text": [
      "D:\\python\\lib\\site-packages\\ipykernel_launcher.py:5: DeprecationWarning: count is deprecated. Use Collection.count_documents instead.\n",
      "  \"\"\"\n",
      "D:\\python\\lib\\site-packages\\ipykernel_launcher.py:10: DeprecationWarning: count is deprecated. Use estimated_document_count or count_documents instead. Please note that $where must be replaced by $expr, $near must be replaced by $geoWithin with $center, and $nearSphere must be replaced by $geoWithin with $centerSphere\n",
      "  # Remove the CWD from sys.path while we load stuff.\n",
      "D:\\python\\lib\\site-packages\\ipykernel_launcher.py:11: DeprecationWarning: count is deprecated. Use Collection.count_documents instead.\n",
      "  # This is added back by InteractiveShellApp.init_path()\n",
      "D:\\python\\lib\\site-packages\\ipykernel_launcher.py:16: DeprecationWarning: count is deprecated. Use estimated_document_count or count_documents instead. Please note that $where must be replaced by $expr, $near must be replaced by $geoWithin with $center, and $nearSphere must be replaced by $geoWithin with $centerSphere\n",
      "  app.launch_new_instance()\n"
     ]
    }
   ],
   "source": [
    "##    statistics\n",
    "from pymongo import MongoClient\n",
    "client = MongoClient()\n",
    "db = client.youtube\n",
    "print(db.youtube.find().count())\n",
    "iterator = db.youtube.aggregate([ { \"$group\": {\"_id\": \"$videoid\"}}])\n",
    "i = 0\n",
    "for redundant in iterator:\n",
    "    i+=1\n",
    "print(db.youtube.count()-i)\n",
    "print(db.youtubelocation.find().count())\n",
    "iterator = db.youtubelocation.aggregate([{ \"$group\": {\"_id\": \"$videoid\"}}])\n",
    "i = 0\n",
    "for redundant in iterator:\n",
    "    i = i+1\n",
    "print(db.youtubelocation.count()-i)"
   ]
  },
  {
   "cell_type": "code",
   "execution_count": 63,
   "metadata": {},
   "outputs": [
    {
     "name": "stderr",
     "output_type": "stream",
     "text": [
      "D:\\python\\lib\\site-packages\\ipykernel_launcher.py:4: DeprecationWarning: count is deprecated. Use Collection.count_documents instead.\n",
      "  after removing the cwd from sys.path.\n"
     ]
    },
    {
     "name": "stdout",
     "output_type": "stream",
     "text": [
      "4748\n"
     ]
    },
    {
     "name": "stderr",
     "output_type": "stream",
     "text": [
      "D:\\python\\lib\\site-packages\\ipykernel_launcher.py:9: DeprecationWarning: count is deprecated. Use Collection.count_documents instead.\n",
      "  if __name__ == '__main__':\n"
     ]
    },
    {
     "name": "stdout",
     "output_type": "stream",
     "text": [
      "4747\n"
     ]
    }
   ],
   "source": [
    "from pymongo import MongoClient\n",
    "client = MongoClient()\n",
    "db = client.youtube\n",
    "print(db.youtubeall.find().count())\n",
    "iterator = db.youtubeall.aggregate([ { \"$group\": {\"_id\": \"$videoid\"}}])\n",
    "i = 0\n",
    "for redundant in iterator:\n",
    "    i+=1\n",
    "print(db.youtubeall.find().count()-i)"
   ]
  },
  {
   "cell_type": "code",
   "execution_count": null,
   "metadata": {},
   "outputs": [],
   "source": [
    "#argparser.add_argument(\"--q\", help=\"Search term\", default=\"Google\")\n",
    "#argparser.add_argument(\"--location\", help=\"Location\", default=\"37.42307,-122.08427\")\n",
    "#argparser.add_argument(\"--location-radius\", help=\"Location radius\", default=\"5km\")\n",
    "#argparser.add_argument(\"--max-results\", help=\"Max results\", default=25)\n",
    "#args = argparser.parse_args()                                        the parameters in this method"
   ]
  },
  {
   "cell_type": "markdown",
   "metadata": {},
   "source": [
    "* aggregate"
   ]
  },
  {
   "cell_type": "code",
   "execution_count": 64,
   "metadata": {},
   "outputs": [
    {
     "name": "stdout",
     "output_type": "stream",
     "text": [
      "1\n"
     ]
    }
   ],
   "source": [
    "iterator = db.youtubeall.aggregate([ { \"$group\": {\"_id\": \"$videoid\"}}])\n",
    "i = 0\n",
    "for redundant in iterator:\n",
    "    i+=1\n",
    "print(i)"
   ]
  },
  {
   "cell_type": "code",
   "execution_count": 36,
   "metadata": {},
   "outputs": [
    {
     "name": "stdout",
     "output_type": "stream",
     "text": [
      "4215\n",
      "495\n",
      "38\n",
      "[4215.  495.   38.]\n"
     ]
    },
    {
     "name": "stderr",
     "output_type": "stream",
     "text": [
      "D:\\python\\lib\\site-packages\\ipykernel_launcher.py:6: DeprecationWarning: count is deprecated. Use Collection.count_documents instead.\n",
      "  \n",
      "D:\\python\\lib\\site-packages\\ipykernel_launcher.py:7: DeprecationWarning: count is deprecated. Use Collection.count_documents instead.\n",
      "  import sys\n",
      "D:\\python\\lib\\site-packages\\ipykernel_launcher.py:8: DeprecationWarning: count is deprecated. Use Collection.count_documents instead.\n",
      "  \n",
      "D:\\python\\lib\\site-packages\\ipykernel_launcher.py:9: DeprecationWarning: count is deprecated. Use Collection.count_documents instead.\n",
      "  if __name__ == '__main__':\n",
      "D:\\python\\lib\\site-packages\\ipykernel_launcher.py:10: DeprecationWarning: count is deprecated. Use Collection.count_documents instead.\n",
      "  # Remove the CWD from sys.path while we load stuff.\n",
      "D:\\python\\lib\\site-packages\\ipykernel_launcher.py:11: DeprecationWarning: count is deprecated. Use Collection.count_documents instead.\n",
      "  # This is added back by InteractiveShellApp.init_path()\n"
     ]
    }
   ],
   "source": [
    "import numpy as np\n",
    "from pymongo import MongoClient\n",
    "client = MongoClient()\n",
    "db = client.youtube\n",
    "videotype = np.zeros(3)\n",
    "videotype[0]=db.youtubeall.find({\"id.kind\":\"youtube#video\"}).count()\n",
    "videotype[1]=db.youtubeall.find({\"id.kind\":\"youtube#channel\"}).count()\n",
    "videotype[2]=db.youtubeall.find({\"id.kind\":\"youtube#playlist\"}).count()\n",
    "print(db.youtubeall.find({\"id.kind\":\"youtube#video\"}).count())\n",
    "print(db.youtubeall.find({\"id.kind\":\"youtube#channel\"}).count())\n",
    "print(db.youtubeall.find({\"id.kind\":\"youtube#playlist\"}).count())\n",
    "print(videotype)"
   ]
  },
  {
   "cell_type": "code",
   "execution_count": 44,
   "metadata": {},
   "outputs": [
    {
     "data": {
      "text/plain": [
       "Text(0.5,1,'different types of youtube data')"
      ]
     },
     "execution_count": 44,
     "metadata": {},
     "output_type": "execute_result"
    },
    {
     "data": {
      "image/png": "[encoded data removed]",
      "text/plain": [
       "<matplotlib.figure.Figure at 0x9c72f60>"
      ]
     },
     "metadata": {},
     "output_type": "display_data"
    }
   ],
   "source": [
    "\n",
    "import matplotlib as mpl   \n",
    "import matplotlib.pyplot as plt\n",
    "\n",
    "fig=plt.figure(figsize=(7,7))\n",
    "ax=fig.add_subplot(1,1,1)\n",
    "ax.bar(range(len(videotype)),videotype)\n",
    "ax.set_xticks(range(len(videotype)))\n",
    "ax.set_xticklabels([\"video\",\"channel\",\"playlist\"])\n",
    "ax.set_title(\"different types of youtube data\")"
   ]
  },
  {
   "cell_type": "code",
   "execution_count": 46,
   "metadata": {},
   "outputs": [],
   "source": [
    "##grouping step\n",
    "\n",
    "\n",
    "import spacy\n",
    "from spacy import displacy\n",
    "from collections import Counter\n",
    "\n",
    "import en_core_web_sm\n",
    "\n",
    "\n",
    "\n",
    "client = MongoClient()\n",
    "db = client.youtube\n",
    "                                                            \n",
    "mycol = db.youtubeall\n",
    "sets = mycol.find()\n",
    "\n",
    "nlp = en_core_web_sm.load()             #load the word database\n",
    "                            \n",
    "for set in sets:\n",
    "    doc = nlp(set['snippet']['title'])\n",
    "\n",
    "    i1 = 0\n",
    "    i2 = 0\n",
    "    i3 = 0\n",
    "                        #set the organization, person and location elements\n",
    "    orgstr = \"\"\n",
    "    locstr = \"\"\n",
    "    pstr = \"\"\n",
    "\n",
    "\n",
    "    for X in doc.ents:\n",
    "        str = X.label_\n",
    "        if ord(X.text[0])>64 and ord(X.text[0])<123:\n",
    "            if (str is \"ORG\"):\n",
    "                if(i1==0):\n",
    "                    orgstr = X.text.lower()\n",
    "                    i1==1\n",
    "\n",
    "            elif (str is \"LOC\"):\n",
    "                if(i2==0):\n",
    "                    locstr =  X.text.lower()\n",
    "                    i2=1\n",
    "\n",
    "            elif (str is \"PERSON\"):\n",
    "                if(i3==0):\n",
    "                    pstr = X.text.lower()\n",
    "                    i3=1\n",
    "\n",
    "\n",
    "\n",
    "\n",
    "\n",
    "    if (orgstr is not \"\") or (locstr is not \"\") or (pstr is not \"\"):\n",
    "        id=set['id']\n",
    "\n",
    "        db.new.insert_one({\"id\":id,\"ORG\": orgstr,\"LOC\": locstr,\"PERSON\": pstr,\"TagNum\": 0,\"ORGTAG\":0,\"PTAG\":0,\"LOCTAG\":0,\"Amount\":0})\n"
   ]
  },
  {
   "cell_type": "code",
   "execution_count": 47,
   "metadata": {},
   "outputs": [
    {
     "name": "stdout",
     "output_type": "stream",
     "text": [
      "1655\n",
      "1181\n",
      "29\n",
      "org 1181\n",
      "person 11655\n",
      "loc 20029\n",
      "2364\n"
     ]
    }
   ],
   "source": [
    "#implement the algorithm\n",
    "\n",
    "import operator\n",
    "\n",
    "mycol = db.new\n",
    "DISTANCE = 10000\n",
    "\n",
    "client = MongoClient()\n",
    "db = client.youtube\n",
    "\n",
    "\n",
    "orglist = []\n",
    "personlist = []\n",
    "loclist = []\n",
    "\n",
    "\n",
    "DATASET= db.new.aggregate([{\"$group\":{\"_id\":\"$PERSON\"}}])\n",
    "for data in DATASET:\n",
    "    if not operator.eq(data['_id'],\"\"):\n",
    "        personlist.append(data['_id'])              \n",
    "print(len(personlist))\n",
    "\n",
    "DATASET= db.new.aggregate([{\"$group\":{\"_id\":\"$ORG\"}}])\n",
    "for data in DATASET:\n",
    "    if not operator.eq(data['_id'], \"\"):\n",
    "        orglist.append(data['_id'])\n",
    "print(len(orglist))\n",
    "\n",
    "DATASET= db.new.aggregate([{\"$group\":{\"_id\":\"$LOC\"}}])\n",
    "for data in DATASET:\n",
    "    if not operator.eq(data['_id'], \"\"):\n",
    "        loclist.append(data['_id'])\n",
    "print(len(loclist))\n",
    "\n",
    "\n",
    "x1 = 0\n",
    "x2 = DISTANCE\n",
    "x3 = DISTANCE * 2\n",
    "x4 = DISTANCE * 3\n",
    "\n",
    "orgONE = []\n",
    "personONE = []\n",
    "locONE = []\n",
    "\n",
    "myquery = {\"TagNum\": {'$ne':0}}\n",
    "newvalues = {\"$set\": {\"TagNum\": 0,\"ORGTAG\":0,\"PTAG\":0,\"LOCTAG\":0}}\n",
    "mycol.update_many(myquery, newvalues)\n",
    "\n",
    "\n",
    "\n",
    "for i in range(len(orglist)):\n",
    "    ones = db.new.find()\n",
    "    for one in ones:\n",
    "        if (operator.eq(one['ORG'],orglist[i])):\n",
    "            orgONE.append(orglist[i])\n",
    "            #orgID.append(one['_id'])\n",
    "            myquery = {\"_id\": one['_id']}                            \n",
    "            t=one['TagNum']+1\n",
    "            newvalues = {\"$set\": {\"NG\": x1,\"ORGTAG\":1,\"TagNum\":t}}\n",
    "            db.new.update_many(myquery, newvalues)\n",
    "    x1 = x1 + 1\n",
    "print(\"org\",x1)\n",
    "\n",
    "for i in range(len(personlist)):\n",
    "    # print(\"list \",list[i])\n",
    "    ones = db.new.find()\n",
    "    for one in ones:\n",
    "        if (operator.eq(one['PERSON'],personlist[i])):\n",
    "            personONE.append(personlist[i])\n",
    "            #personID.append(one['_id'])\n",
    "            myquery = {\"_id\": one['_id']}\n",
    "            t = one['TagNum'] + 1\n",
    "            newvalues = {\"$set\": {\"NG\": x2,\"PTAG\":1,\"TagNum\":t}}\n",
    "            db.new.update_many(myquery, newvalues)\n",
    "    x2 = x2 + 1\n",
    "print(\"person\",x2)\n",
    "\n",
    "for i in range(len(loclist)):\n",
    "    ones = db.new.find()\n",
    "    for one in ones:\n",
    "        if (operator.eq(one['LOC'],loclist[i])):\n",
    "            locONE.append(loclist[i])\n",
    "            #locID.append(one['_id'])\n",
    "            myquery = {\"_id\": one['_id']}\n",
    "            t = one['TagNum'] + 1\n",
    "            newvalues = {\"$set\": {\"NG\": x3,\"LOCTAG\":1,\"TagNum\":t}}\n",
    "            db.new.update_many(myquery, newvalues)\n",
    "    x3 = x3 + 1\n",
    "print(\"loc\",x3)\n",
    "\n",
    "DATASET= db.new.aggregate([{\"$group\":{\"_id\":\"$NG\"}}])\n",
    "\n",
    "i=0\n",
    "for data in DATASET:\n",
    "    i+=1\n",
    "\n",
    "ones = db.new.find()\n",
    "for one in ones:\n",
    "    if (one['TagNum']==3):\n",
    "        myquery =  {'$or':[{\"LOC\": one['LOC']},{\"PERSON\": one['PERSON']},{\"ORG\": one['ORG']}]}\n",
    "        newvalues = {\"$set\": {\"NG\": x4,\"TagNum\":4}}\n",
    "        db.new.update_many(myquery, newvalues)\n",
    "        x4 += 1\n",
    "\n",
    "\n",
    "    elif(one['TagNum']==2):\n",
    "\n",
    "        if one['ORGTAG']==1 and one['LOCTAG']==1:\n",
    "            myquery = {'$or': [{\"LOC\": one['LOC']},{\"ORG\": one['ORG']}]}\n",
    "            newvalues = {\"$set\": {\"NG\": x4, \"TagNum\": 5}}\n",
    "        elif one['ORGTAG']==1 and one['PTAG']==1:\n",
    "            myquery = {'$or': [{\"PERSON\": one['PERSON']},{\"ORG\": one['ORG']}]}\n",
    "            newvalues = {\"$set\": {\"NG\": x4, \"TagNum\": 5}}\n",
    "        elif one['PTAG']==1 and one['LOCTAG']==1:\n",
    "            myquery = {'$or': [{\"LOC\": one['LOC']},{\"PERSON\": one['PERSON']}]}\n",
    "            newvalues = {\"$set\": {\"NG\": x4, \"TagNum\": 5}}\n",
    "\n",
    "        db.new.update_many(myquery, newvalues)\n",
    "        x4 += 1\n",
    "\n",
    "DATASET= db.new.aggregate([{\"$group\":{\"_id\":\"$NG\"}}])\n",
    "\n",
    "i=0\n",
    "for data in DATASET:\n",
    "    i+=1\n",
    "print(i)\n",
    "\n"
   ]
  },
  {
   "cell_type": "code",
   "execution_count": 48,
   "metadata": {},
   "outputs": [
    {
     "name": "stdout",
     "output_type": "stream",
     "text": [
      "2364\n"
     ]
    }
   ],
   "source": [
    "import operator\n",
    "\n",
    "client = MongoClient()\n",
    "db = client.youtube\n",
    "\n",
    "#mygroup = mydb[NEWDATABASE]\n",
    "\n",
    "DATASET= db.new.aggregate([{\"$group\":{\"_id\":\"$NG\"}}])\n",
    "\n",
    "i=0\n",
    "for data in DATASET:\n",
    "    ggs = db.new.find({'NG': data['_id']})\n",
    "    count = 0\n",
    "    for gg in ggs:\n",
    "        count+=1\n",
    "\n",
    "    myquery = {\"NG\":data['_id'] }\n",
    "    newvalues = {\"$set\": {\"Amount\": count}}\n",
    "    db.new.update_many(myquery, newvalues)\n",
    "\n",
    "    i+=1\n",
    "\n",
    "print(i)"
   ]
  },
  {
   "cell_type": "code",
   "execution_count": 50,
   "metadata": {},
   "outputs": [],
   "source": [
    "import operator\n",
    "\n",
    "client = MongoClient()\n",
    "db = client.youtube\n",
    "\n",
    "mycol = db.new\n",
    "\n",
    "\n",
    "myquery = {\"Amount\": {'$ne':1}}\n",
    "\n",
    "DATASET= mycol.find(myquery)\n",
    "\n",
    "for data in DATASET:                #take the tweet with the same elements into the same group\n",
    "    db.newgroup.insert_one(data)"
   ]
  },
  {
   "cell_type": "code",
   "execution_count": 51,
   "metadata": {},
   "outputs": [
    {
     "name": "stdout",
     "output_type": "stream",
     "text": [
      "the number of group is 248\n"
     ]
    }
   ],
   "source": [
    "import operator\n",
    "\n",
    "DATABASENAME = \"local\"\n",
    "\n",
    "NEWDATABASE = \"GroupData\"\n",
    "\n",
    "client = MongoClient()\n",
    "db = client.youtube\n",
    "\n",
    "\n",
    "DATASET= db.newgroup.aggregate([{\"$group\":{\"_id\":\"$NG\"}}])\n",
    "\n",
    "i=0\n",
    "for data in DATASET:\n",
    "    i+=1\n",
    "print(\"the number of group is\",i)\n"
   ]
  },
  {
   "cell_type": "code",
   "execution_count": null,
   "metadata": {},
   "outputs": [],
   "source": []
  }
 ],
 "metadata": {
  "kernelspec": {
   "display_name": "Python 3",
   "language": "python",
   "name": "python3"
  },
  "language_info": {
   "codemirror_mode": {
    "name": "ipython",
    "version": 3
   },
   "file_extension": ".py",
   "mimetype": "text/x-python",
   "name": "python",
   "nbconvert_exporter": "python",
   "pygments_lexer": "ipython3",
   "version": "3.6.4"
  }
 },
 "nbformat": 4,
 "nbformat_minor": 2
}
